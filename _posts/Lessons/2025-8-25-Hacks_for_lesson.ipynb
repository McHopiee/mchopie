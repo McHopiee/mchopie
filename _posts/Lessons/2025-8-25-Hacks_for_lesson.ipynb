{
 "cells": [
  {
   "cell_type": "markdown",
   "metadata": {},
   "source": [
    "---\n",
    "layout: tailwindPost\n",
    "title: Moving Background \n",
    "description: Intro to JavaScript, creating a moving background \n",
    "categories: [Lessons]\n",
    "permalink: /lessons/Hacks\n",
    "authors: [Avantika]\n",
    "comments: true\n",
    "---"
   ]
  },
  {
   "cell_type": "markdown",
   "metadata": {},
   "source": [
    "<span style=\"color:#FF00FF; font-size:36px;\">Hack/More information</span>\n"
   ]
  },
  {
   "cell_type": "markdown",
   "metadata": {},
   "source": [
    "Using what was taught in the lesson you will create a moving background.\n",
    "\n",
    "Requirements: \n",
    "- <span style=\"color:#4EB5ED\">Being able to size the Canvas correctly</span>\n",
    "  - Create a canvas element with an id\n",
    "  - Use JavaScript to get the canvas and 2D context. \n",
    "- <span style=\"color:#4EB5ED\">Succsessfully creating a class for the game object</span>\n",
    "  - Class must contain properties for image, width, height, speed, and speedRatio\n",
    "- <span style=\"color:#4EB5ED\">Creating a background class</span>\n",
    "  - Background class must extend to game object\n",
    "  - Add an update() that moves the background around so it never ends\n",
    "- <span style=\"color:#4EB5ED\">Creating a Game loop</span>\n",
    "  - Must have an Animate() function that clears the canvas, redraws the background, and draws the sprite in the center\n",
    "- <span style=\"color:#4EB5ED\">Working final output</span>"
   ]
  },
  {
   "cell_type": "markdown",
   "metadata": {},
   "source": [
    "<span style=\"color:#FF00FF; font-size:25px;\">Troubleshooting</span>"
   ]
  },
  {
   "cell_type": "markdown",
   "metadata": {},
   "source": [
    "<span style=\"color:#4EB5ED\">Canvas isn't showing anything</span>\n",
    "- Make sure you are using the correct id in document.getElementById(\"world\").\n",
    "- Verify your canvas has a width and height set in JavaScript:"
   ]
  },
  {
   "cell_type": "code",
   "execution_count": null,
   "metadata": {
    "vscode": {
     "languageId": "javascript"
    }
   },
   "outputs": [],
   "source": [
    "canvas.width = window.innerWidth;\n",
    "canvas.height = window.innerHeight;\n",
    "//Should look like this"
   ]
  },
  {
   "cell_type": "markdown",
   "metadata": {},
   "source": [
    "<span style=\"color:#4EB5ED\">Images don’t appear</span>\n",
    "- Make sure your images exist in the same folder or the correct path is used.\n",
    "- Check that you load the image before drawing it, don’t try to draw the image before it has loaded."
   ]
  },
  {
   "cell_type": "markdown",
   "metadata": {},
   "source": [
    "<span style=\"color:#4EB5ED\">Background isn’t moving</span>\n",
    "- Check your update() function in the Background class\n",
    "- Make sure speed is not zero.\n",
    "- Make sure animate() calls backgroundObj.update() every frame"
   ]
  },
  {
   "cell_type": "code",
   "execution_count": null,
   "metadata": {
    "vscode": {
     "languageId": "javascript"
    }
   },
   "outputs": [],
   "source": [
    "this.x = (this.x - this.speed) % this.width;\n",
    "//What the update() function in the background class should look like"
   ]
  },
  {
   "cell_type": "markdown",
   "metadata": {},
   "source": [
    "<span style=\"color:#4EB5ED\">Background disappears or gaps appear</span>\n",
    "\n",
    "- Ensure your draw(ctx) method draws two copies of the background:\n",
    "- This prevents gaps when one image scrolls off the screen."
   ]
  },
  {
   "cell_type": "code",
   "execution_count": null,
   "metadata": {
    "vscode": {
     "languageId": "javascript"
    }
   },
   "outputs": [],
   "source": [
    "ctx.drawImage(this.image, this.x, this.y, this.width, this.height);\n",
    "ctx.drawImage(this.image, this.x + this.width, this.y, this.width, this.height);\n",
    "//What the draw() function in the background class should look like"
   ]
  }
 ],
 "metadata": {
  "kernelspec": {
   "display_name": "Python 3",
   "language": "python",
   "name": "python3"
  },
  "language_info": {
   "name": "python",
   "version": "3.9.6"
  }
 },
 "nbformat": 4,
 "nbformat_minor": 2
}
