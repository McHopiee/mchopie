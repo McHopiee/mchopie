{
 "cells": [
  {
   "cell_type": "markdown",
   "id": "cab3a3df",
   "metadata": {},
   "source": [
    "---\n",
    "layout: post\n",
    "title: AP CSP - Progress One  \n",
    "description: The first personal 'progress check' in AP CSP. 09/09/2025.\n",
    "permalink: /personal/progressone\n",
    "author: Hope Fune \n",
    "categories: [Personal]\n",
    "---\n"
   ]
  },
  {
   "cell_type": "markdown",
   "metadata": {},
   "source": [
    "<h1 style=\"color:#6B4F8B;\">AP CSP Progress One</h1>\n",
    "\n",
    "<p>This progress check goes through what I have done so far in AP Computer Science Principles. Here, I’ll reflect on my growth as a collaborator and problem-solver while navigating projects, technical challenges, and teamwork.</p>\n",
    "\n",
    "<h2 style=\"color:#9B8FCB;\">Getting Started</h2>\n",
    "\n",
    "<p>At the start of the class, I felt confident going in. I already had experience with GitHub repositories from previous CSSE work, which made setting up projects and managing assignments feel smooth and familiar. I quickly grasped the basic tasks, and managed to finish making the main page and about page of my repository fast so I could move onto something else.</p>\n",
    "\n",
    "<h2 style=\"color:#9B8FCB;\">First Collaborative Project</h2>\n",
    "\n",
    "<p>I was placed in an LxD2 group and was tasked with creating a lesson on a moving background. This project was a fun to do, but a bit frustrating at the same time since it was still difficult to communicate well with the rest of the team. I learned that even small visual effects require careful planning and attention to detail, which improved my coding discipline.</p>\n",
    "\n",
    "<h2 style=\"color:#9B8FCB;\">Overcoming Technical Challenges</h2>\n",
    "\n",
    "<p>Something I found challenging was changing the theme of a GitHub repository. Initially, I was frustrated because I did not get through the first check, since I had no idea what I was doing. Through trial and error and testing examining the makefile, I figured out how to customize it. This experience gave me a confidence boost and made me feel more capable navigating GitHub’s features.</p>\n",
    "\n",
    "<h2 style=\"color:#9B8FCB;\">Team Formation</h2>\n",
    "\n",
    "<p>I am currently in a group called ‘Syntax Errors’, with the goal of creating four game hacks together. Collaborating closely taught me how to communicate effectively, manage tasks and deadlines, and learning to be patient with not only other people but myself as well. It wasn’t always smooth, but working as a team was incredibly rewarding.</p>\n",
    "\n",
    "<h2 style=\"color:#9B8FCB;\">Ping Pong Game</h2>\n",
    "\n",
    "<p>For one of the four hacks, we decided on making a changing a pong game. I found this activity very entertaining, since I have experience with making a pong game, but I made it in python the last time I made one. So, grabbing an example from JavaScript to analyze and change it was a good learning experience. I also enjoyed making the notebook for it, since I got the opportunity to explain what I changed in the game and the purpose of it.</p>\n"
   ]
  },
  {
   "cell_type": "markdown",
   "metadata": {},
   "source": [
    "## Reflection\n",
    "This class has been both challenging and rewarding. By participating in projects and collaborating, I have strengthened my coding skills and learned to troubleshoot issues effectively."
   ]
  }
 ],
 "metadata": {
  "kernelspec": {
   "display_name": "Python 3",
   "language": "python",
   "name": "python3"
  },
  "language_info": {
   "name": "python",
   "version": "3.10"
  }
 },
 "nbformat": 4,
 "nbformat_minor": 5
}
