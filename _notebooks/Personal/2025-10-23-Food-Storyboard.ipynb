{
 "cells": [
  {
   "cell_type": "markdown",
   "id": "6f6d5bce",
   "metadata": {},
   "source": [
    "---\n",
    "layout: tailwindPost\n",
    "infoGraph: food_storyboard\n",
    "title: Storyboard for Food Node \n",
    "description: Storyboard and ideas for Syntax Terror's Food Module \n",
    "categories: [Personal]\n",
    "permalink: /personal/storyboard\n",
    "authors: [Hope]\n",
    "comments: true\n",
    "---"
   ]
  },
  {
   "cell_type": "markdown",
   "id": "c0f9b6d3",
   "metadata": {
    "vscode": {
     "languageId": "plaintext"
    }
   },
   "source": [
    "{%- include tailwind/storyboard.html -%}"
   ]
  }
 ],
 "metadata": {
  "language_info": {
   "name": "python"
  }
 },
 "nbformat": 4,
 "nbformat_minor": 5
}
