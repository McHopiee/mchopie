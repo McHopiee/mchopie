{
 "cells": [
  {
   "cell_type": "markdown",
   "id": "9e10a333",
   "metadata": {},
   "source": [
    "---\n",
    "layout: post\n",
    "title: AP CSP - Key Learning \n",
    "description: Key learning while working on the gamified lesson in AP CSP. 09/09/2025.\n",
    "permalink: /personal/keylearningmm\n",
    "author: Hope Fune \n",
    "categories: [Personal]\n",
    "---\n"
   ]
  },
  {
   "cell_type": "markdown",
   "id": "10a0ee6f",
   "metadata": {},
   "source": [
    "## Project Overview\n",
    "\n",
    "The M&M Make project is a 2D game that Syntax Terrors created by remembering what some of us created in CSSE2, and made it into a game used for learning.\n",
    "\n",
    "- Planned the game's structure and milestones.\n",
    "- Implemented two distinct game levels (including level transitions).\n",
    "- Implemented player and NPC classes, created the beta interactions but not the finalized interaction.\n",
    "- Reviewed and fixed some of my teammates' commits when they needed help.\n",
    "- Maintained clear and consistent communication with the team throughout development.\n",
    "\n"
   ]
  },
  {
   "cell_type": "markdown",
   "id": "5fee27e7",
   "metadata": {},
   "source": [
    "## Planning and Project Structure\n",
    "\n",
    "The steps included:\n",
    "\n",
    "1. Create a canvas, a way for the game to be drawn. Find a place to have this file located in the repository and start making the base for it .. like the adventure game some of us in CSSE2\n",
    "2. What we want to do is have different npcs that the player can talk with. So, we have to create multiple npcs around the map. It is probably a good idea to have the npcs be pretty small, depending on how many steps we want the lesson to be.\n",
    "3. maybe have some kind of challenge after 2-3 npcs to make sure that the player understands how to set up the correct steps to make with theme\n",
    "4. after finishing the npc interactions and learning, have a finale to the game where the blank m&m takes all the colors that they have collected from each npc to finally make themselves colored !\n",
    "\n",
    "I created a project board and broke tasks into milestones, making it so that each step builds onto the last until it was finished!\n",
    "\n"
   ]
  },
  {
   "cell_type": "markdown",
   "id": "20489c40",
   "metadata": {},
   "source": [
    "## Level Design — `GameLevelSummer` & `GameLevelChocolate`\n",
    "\n",
    "We implemented two game levels that demonstrate different environments and gameplay elements:\n",
    "\n",
    "- **GameLevelSummer**: The level with both the red and orange m&m, where they teach you how to set up your VSCode before starting make\n",
    "- **GameLevelChocolate**: The second and final level where the blue m&m tests the player\n",
    "\n",
    "Implementation highlights:\n",
    "\n",
    "- Encapsulated level logic in classes so levels can be swapped easily.\n",
    "- Used a `gameEnv` object to provide one gameEnv for all levels\n"
   ]
  },
  {
   "cell_type": "markdown",
   "id": "46249bac",
   "metadata": {},
   "source": [
    "## Players and NPCs\n",
    "\n",
    "I authored modular `Player` and `Npc` classes to separate concerns between entity behavior and engine systems.\n",
    "\n",
    "- **Player** responsibilities:\n",
    "  - Collision resolution and interaction with level objects.\n",
    "  - State machine for animation \n",
    "\n",
    "- **Npc** responsibilities:\n",
    "  - Basically the same set up as the Player, but they're completely stationary\n",
    "\n",
    "Sample snippet showing constructor patterns and composition:\n",
    "\n",
    "```js\n",
    "const sprite_src_blank = path + \"/images/mm/blankwalking.png\";\n",
    "    const BLANK_SCALE_FACTOR = 6;\n",
    "    const sprite_data_blank = {\n",
    "      id: 'Blank M&M',\n",
    "      greeting: \"I need to learn how to makes\",\n",
    "      src: sprite_src_blank,\n",
    "      SCALE_FACTOR: BLANK_SCALE_FACTOR,\n",
    "      STEP_FACTOR: 1000,\n",
    "      ANIMATION_RATE: 25,\n",
    "      INIT_POSITION: { x: 0, y: height - (height / BLANK_SCALE_FACTOR) },\n",
    "      pixels: { height: 70, width: 216 },\n",
    "      orientation: { rows: 2, columns: 6 },\n",
    "      down: { row: 0, start: 0, columns: 6 },\n",
    "      downRight: { row: 0, start: 0, columns: 6, rotate: Math.PI / 16 },\n",
    "      downLeft: { row: 1, start: 0, columns: 6, rotate: -Math.PI / 16 },\n",
    "      left: { row: 1, start: 0, columns: 6 },\n",
    "      right: { row: 0, start: 0, columns: 6 },\n",
    "      up: { row: 0, start: 0, columns: 6 },\n",
    "      upLeft: { row: 1, start: 0, columns: 6, rotate: Math.PI / 16 },\n",
    "      upRight: { row: 0, start: 0, columns: 6, rotate: -Math.PI / 16 },\n",
    "      hitbox: { widthPercentage: 0.45, heightPercentage: 0.2 },\n",
    "      keypress: { up: 87, left: 65, down: 83, right: 68 } // W, A, S, D\n",
    "    };\n",
    "```\n",
    "\n"
   ]
  },
  {
   "cell_type": "markdown",
   "id": "2cf69ec5",
   "metadata": {},
   "source": [
    "## Reviewing and Fixing Teammates' Commits\n",
    "\n",
    "One recurring task during the project was reviewing incoming pull requests and fixing issues introduced by teammates (either by accident or because a refactor missed an edge case). I followed this approach:\n",
    "\n",
    "1. **Run the code locally** with the branch checked out and reproduce the bug or failing test.\n",
    "2. **Read the related commit** to understand the intent.\n",
    "3. **Add targeted unit or integration tests** when possible to codify the expected behavior.\n",
    "4. **Make minimal, well-documented changes** and add comments explaining tricky parts.\n",
    "5. **Communicate changes** with a clear summary and a short explanation of the fix.\n",
    "\n",
    "A few example fixes I performed:\n",
    "\n",
    "- Fixed problems when make wasn't working \n",
    "- At times, we struggled to communicated when we're making changes and that makes it so git pull fails to work \n",
    "- When that happened, I learned how to merge the branch manually by typing `git --no -rebase` or `git --rebase` in the terminal\n",
    "\n"
   ]
  },
  {
   "cell_type": "markdown",
   "id": "6c1a234c",
   "metadata": {},
   "source": [
    "## Team Communication and Process\n",
    "\n",
    "Effective communication was crucial. I used the following practices to keep the team aligned:\n",
    "\n",
    "- Daily conversations and check ins with teammates, asking what we needed to get done next \n",
    "- Clear commit messages and descriptive PR titles.\n",
    "- Paired sessions for complex issues — this reduced debugging time and spread knowledge of what we did wrong and how not to do it next time\n",
    "\n",
    "\n",
    "\n"
   ]
  },
  {
   "cell_type": "markdown",
   "id": "a107ba2c",
   "metadata": {},
   "source": [
    "## Lessons Learned & Best Practices\n",
    "\n",
    "- Maintain single responsibility principles: components with one focused job are easier to test and refactor.\n",
    "- Keep shared mutable state minimized; prefer per-level state objects.\n",
    "\n",
    "Final takeaway: balancing coding and working on the game with clear communication allowed the team to move quickly and keep the codebase healthy.\n",
    "\n"
   ]
  },
  {
   "cell_type": "markdown",
   "id": "9070b36d",
   "metadata": {},
   "source": [
    "## Closing\n",
    "\n",
    "Overall, this project whilst working with this team was very rewarding, and I would love to make another game or project with these people again. There was a bit of a commuication bug, but with all bugs, we quickly fixed it. I learned how to successfully plan something out for a big project such as this one, and I learned how to communicate with others in order to divide the work evenly! In git we trust. \n"
   ]
  }
 ],
 "metadata": {
  "language_info": {
   "name": "python"
  }
 },
 "nbformat": 4,
 "nbformat_minor": 5
}
