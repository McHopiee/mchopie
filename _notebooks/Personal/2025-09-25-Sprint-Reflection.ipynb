{
  "cells": [
    {
      "cell_type": "markdown",
      "id": "69e6e2c1",
      "metadata": {
        "vscode": {
          "languageId": "yaml"
        }
      },
      "source": [
        "---\n",
        "\n",
        "layout: post\n",
        "title: AP CSP - Sprint Reflection\n",
        "description: Personal Achievements in Sprint One and Goals for Sprint Two\n",
        "categories: [Personal]\n",
        "permalink: personal/sprint/\n",
        "\n",
        "---"
      ]
    },
    {
      "cell_type": "markdown",
      "id": "0f4cf1a7",
      "metadata": {},
      "source": [
        "# 🌟 Sprint Reflection\n",
        "\n",
        "This notebook documents my **personal achievements from Sprint One** and sets **goals for Sprint Two**. \n",
        "It serves as both a record of progress and a guide for my continued growth as a collaborator and developer.\n"
      ]
    },
    {
      "cell_type": "markdown",
      "metadata": {},
      "source": [
        "## 🏆 Sprint One Achievements\n",
        "\n",
        "During Sprint One, I built a strong foundation in both technical and collaborative areas. Here are my accomplishments, in order:\n",
        "\n",
        "1. **Getting past tools and make**  \n",
        "   - Learned how to use essential tools and commands in order to open VSCode properly and get started with my Sprint One journey \n",
        "   - Got past the struggle of learning how to run make while also changing the theme\n",
        "\n",
        "2. **Creating a personal repository**  \n",
        "   - Built my own repository with interactive buttons and a personalized About section\n",
        "   - Changed the font and buttons of the main page so it looks more aesthetically pleasing to me \n",
        "\n",
        "3. **Learning how to transfer files from one repository to another**  \n",
        "   - Practiced moving files across repositories, an important skill for version control and collaboration\n",
        "   - Learned how to open two repositories at the same time to easily move one file to another \n",
        "   - Also learned how to git pull when the `pages` repository is updated. \n",
        "\n",
        "4. **Getting into groups in order to work on projects**  \n",
        "   - Joined a group project and practiced collaboration with peers.\n",
        "   - Organized a board of ideas and things to do in groups\n",
        "   - Created issues to organize ideas and to also assign people to certain jobs \n",
        "\n",
        "5. **Working on game hacks with a group and having them graded**  \n",
        "   - Contributed to game hack projects, reinforcing both coding and teamwork skills.\n",
        "   - Agreed with group on what games to do, making sure that we don't do the same hacks \n",
        "\n",
        "6. **Working on a 'gamified' lesson to teach others how to make with a theme**  \n",
        "   - Designed an engaging, theme-based lesson to introduce new learners to making concepts.\n",
        "   - Created steps to create the process of making this game \n",
        "   - Although the game was not officially 'finished', that just means that we have more things to work on \n",
        "   - Game still worked pretty well, the visual of it was good \n",
        "\n",
        "### M&M Gamified Lesson \n",
        "This was a big part of sprint one, since this was the project that we spent the most time on. We created a game that would make learning how to make while also changing theme understandable but not boring to learn. I created the steps and worked with team members to make the 'plot' for the game, what we wanted to happen and what we wanred to put into the game so that the player would learn.\n",
        "\n",
        "---"
      ]
    },
    {
      "cell_type": "markdown",
      "metadata": {},
      "source": [
        "## 🎯 Sprint Two Goals\n",
        "\n",
        "For Sprint Two, I want to deepen my coding skills and strengthen my teamwork. My personal goals are:\n",
        "\n",
        "- **Continue to work on teamwork and communication**  \n",
        "   1. Build stronger collaboration with peers by being more engaged and supportive.\n",
        "   2. Continue to create issues and start assigning people to do certain things \n",
        "   3. Communicate with others to make sure they are doing what they are supposed to do \n",
        "\n",
        "- **Encourage the team to create forks of their repository**  \n",
        "   1. Guide teammates toward better version control practices (forks and pull requests instead of only using `git pull`).\n",
        "   2. Mr. Mortensen mentioned that we should instead have each of the team members creating their own forked repo to the main repository so we don't have to keep telling each other when we are changing things \n",
        "\n",
        "- **Stay connected with the team**  \n",
        "   1. Avoid isolating myself and work more closely with the group.\n",
        "   2. Help group members when they need help \n",
        "   3. Make sure to keep an eye on the team, making sure they are keeping up and they understand what they are doing \n",
        "\n",
        "- **Learn essential coding concepts in JavaScript and Python**  \n",
        "   1. Strengthen my foundation in both languages to prepare for more complex projects.\n",
        "   2. Pay attention to all the lessons coming up in sprint two, do the hacks they might give in order to understand python and javascript more \n",
        "\n",
        "- **Create three lessons on coding concepts in JavaScript and Python**  \n",
        "   1. Share my knowledge by designing clear, accessible lessons.\n",
        "\n",
        "---"
      ]
    },
    {
      "cell_type": "markdown",
      "metadata": {},
      "source": [
        "## 📊 Comparison: Sprint One vs. Sprint Two\n",
        "\n",
        "| Sprint One Achievements | Sprint Two Goals |\n",
        "|--------------------------|------------------|\n",
        "| 🚀 Mastered tools & make | 🤝 Improve teamwork & communication |\n",
        "| 📂 Built personal repo | 🔧 Encourage forks & PR workflow |\n",
        "| 🔄 Transferred files between repos | 👥 Stay engaged with team |\n",
        "| 🤝 Joined project groups | 💻 Learn coding concepts (JS & Python) |\n",
        "| 🎮 Completed game hacks | 📖 Create three coding lessons |\n",
        "| 📚 Designed a gamified lesson | — |\n",
        "\n",
        "---"
      ]
    },
    {
      "cell_type": "markdown",
      "metadata": {},
      "source": [
        "## ✅ Closing Thoughts\n",
        "\n",
        "Sprint One allowed me to establish a foundation in tools, repositories, and group collaboration. \n",
        "For Sprint Two, I aim to evolve into a stronger **collaborator, coder, and teacher**. By staying connected with my team, \n",
        "learning new coding concepts, and creating educational lessons, I’ll continue to grow and prepare myself for future challenges."
      ]
    }
  ],
  "metadata": {
    "kernelspec": {
      "display_name": "Python 3",
      "language": "python",
      "name": "python3"
    },
    "language_info": {
      "name": "python",
      "version": "3.10"
    }
  },
  "nbformat": 4,
  "nbformat_minor": 5
}
