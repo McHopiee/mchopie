{
 "cells": [
  {
   "cell_type": "markdown",
   "metadata": {},
   "source": [
    "---\n",
    "layout: tailwindPost\n",
    "title: Moving Background\n",
    "description: Intro to JavaScript, creating a moving background \n",
    "categories: [Lessons]\n",
    "permalink: /lessons/Hacks\n",
    "authors: [Avantika]\n",
    "comments: true\n",
    "---"
   ]
  },
  {
   "cell_type": "markdown",
   "metadata": {
    "vscode": {
     "languageId": "plaintext"
    }
   },
   "source": [
    "**Step one** \n",
    "make a place to draw (the canvas), the canvas id=\"world\" tag is just an empty pixel grid in the page. **nothing appears until you draw on it with JavaScript.**\n",
    "\n",
    "\n",
    "const canvas = document.getElementById(\"world\") gets the DOM element.\n",
    "\n",
    "const ctx = canvas.getContext('2d') gives you the 2D drawing API (the “paintbrush” with commands like drawImage, fillRect, etc.).\n",
    "\n",
    "size the canvas correctly\n",
    "\n",
    "canvas.width/canvas.height set the pixel resolution of the drawing surface.\n",
    "\n",
    "canvas.style.width/canvas.style.height set the CSS size on screen.\n",
    "\n",
    "keeping them in sync prevents stretching/blurriness. (bonus: for super-crisp graphics on high-DPI screens, multiply canvas.width/height by devicePixelRatio and scale with ctx.scale(dpr, dpr).)\n",
    "\n",
    "load your images (assets)\n",
    "\n",
    "create new Image() for the background and the sprite, and set src.\n",
    "\n",
    "only draw after they’ve loaded (use image.onload = () => { … }) so you don’t draw a blank.\n",
    "\n",
    "define a reusable “thing on screen” (GameObject)\n",
    "\n",
    "the GameObject class stores: which image to draw, how big, and where (x, y).\n",
    "\n",
    "speedRatio is how fast it should move relative to a global gameSpeed.\n",
    "\n",
    "keep logic separated: update() (change positions), draw() (render).\n",
    "\n",
    "make a special background that scrolls forever\n",
    "\n",
    "the trick: draw two copies of the same background image side by side.\n",
    "\n",
    "move x a little left each frame; when it slides off, wrap it around.\n",
    "\n",
    "this.x = (this.x - this.speed) % this.width gives the wrap effect.\n",
    "(tiny gotcha: JS modulo can go negative; many devs add a guard like\n",
    "if (this.x < -this.width) this.x += this.width; so it stays tidy.)\n",
    "\n",
    "set a global speed dial\n",
    "\n",
    "let gameSpeed = 5; is your master “how fast are we moving?” value.\n",
    "\n",
    "each object’s actual speed is gameSpeed * speedRatio (ex: parallax layers can move at 0.2, 0.5, 1.0).\n",
    "\n",
    "create your instances\n",
    "\n",
    "backgroundObj = new Background(backgroundImg, canvasWidth, canvasHeight, 0, 0, 1)\n",
    "→ full-screen, moves at 1× speed.\n",
    "\n",
    "spriteObj = new GameObject(spriteImg, w, h, centerX, bottomY, 0)\n",
    "→ speed 0 so it appears fixed while the world scrolls behind it.\n",
    "\n"
   ]
  }
 ],
 "metadata": {
  "kernelspec": {
   "display_name": "Python 3",
   "language": "python",
   "name": "python3"
  },
  "language_info": {
   "name": "python",
   "version": "3.9.6"
  }
 },
 "nbformat": 4,
 "nbformat_minor": 2
}
