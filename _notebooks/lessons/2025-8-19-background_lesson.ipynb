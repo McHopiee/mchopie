{
 "cells": [
  {
   "cell_type": "code",
   "execution_count": null,
   "id": "d77b81ae",
   "metadata": {
    "vscode": {
     "languageId": "yaml"
    }
   },
   "outputs": [],
   "source": [
    "---\n",
    "layout: tailwindPost\n",
    "infoGraph: background\n",
    "title: Moving Background\n",
    "description: Intro to JavaScript, creating a moving background \n",
    "categories: [Lessons]\n",
    "permalink: /lessons/movingbackground\n",
    "authors: [Hope]\n",
    "comments: true\n",
    "---"
   ]
  },
  {
   "cell_type": "markdown",
   "id": "9cac99a9",
   "metadata": {},
   "source": [
    "{%- include tailwind/lesson.html -%}"
   ]
  },
  {
   "cell_type": "markdown",
   "id": "eacc7aea",
   "metadata": {},
   "source": [
    "## Moving Background \n",
    "\n",
    "A lot of games, mostly platformer 2D games use moving backgrounds. For example, when Mario runs to save the princess, the background moves so it seems like he's actually going somewhere. \n",
    "\n",
    "There are a lot of JavaScript components that go into the code to have a moving background. We're going to go through them."
   ]
  },
  {
   "cell_type": "markdown",
   "id": "2004701e",
   "metadata": {},
   "source": [
    "## Canvas \n",
    "<br>\n",
    "In order for anything to show up on your screen in the first place, we have to create a canvas for everything to be drawn on.\n",
    "\n",
    "We're going to need to **declare a constant variable** using the keyword ``const``\n",
    "\n",
    "```js\n",
    "const canvas = document.getElementById(\"world\");\n",
    "// document.getElementById(\"world\") finds the <canvas id=\"world\"> element in the DOM.\n",
    "\n",
    "const ctx = canvas.getContext('2d');\n",
    "// every canvas has a drawing context. for example, getContext('2d') returns the 2D drawing API (methods like drawImage, fillRect, clearRect).\n",
    "// canvas is the DOM element; ctx is what draws pixels\n",
    "```\n",
    "\n",
    "### Sizing the Canvas \n",
    "<br>\n",
    "Now, we need to size the canvas to the window. Again, this is so the things being drawn isn't too small or too big for your window screen. \n",
    "<br>\n",
    "\n",
    "\n",
    "```js\n",
    "const canvasWidth = window.innerWidth;\n",
    "const canvasHeight = window.innerHeight;\n",
    "\n",
    "canvas.width = canvasWidth;\n",
    "canvas.height = canvasHeight;\n",
    "canvas.style.width = `${canvasWidth}px`;\n",
    "canvas.style.height = `${canvasHeight}px`;\n",
    "```\n",
    "<br>\n",
    "\n",
    "`canvas.width` / `canvas.height` set the drawing buffer size (pixel resolution of the canvas).\n",
    "\n",
    "`canvas.style.width` / `canvas.style.height` set the **CSS** size (how big it appears on screen).\n",
    "They set both equal so the drawing area matches the visible size.\n"
   ]
  },
  {
   "cell_type": "markdown",
   "id": "587c3466",
   "metadata": {},
   "source": [
    "There are other variables that need to be constant in order for the moving background to work, two are very important because they are the main items that make the moving background a moving background. \n",
    "\n",
    "<br>\n",
    "\n",
    "```js\n",
    "const background //self explanatory \n",
    "const sprite // whatever you want to place in the middle of the screen \n",
    "```\n",
    "\n",
    "<br>\n",
    "\n",
    "Now, you can see that those lines are missing some details. Based on the example that was given, try to set both the background and sprite to images of you choice."
   ]
  }
 ],
 "metadata": {
  "kernelspec": {
   "display_name": "venv",
   "language": "python",
   "name": "python3"
  },
  "language_info": {
   "name": "python",
   "version": "3.12.3"
  }
 },
 "nbformat": 4,
 "nbformat_minor": 5
}
