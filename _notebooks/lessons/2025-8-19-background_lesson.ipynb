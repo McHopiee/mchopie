{
 "cells": [
  {
   "cell_type": "code",
   "execution_count": null,
   "id": "d77b81ae",
   "metadata": {
    "vscode": {
     "languageId": "yaml"
    }
   },
   "outputs": [],
   "source": [
    "---\n",
    "layout: post\n",
    "title: Moving Background\n",
    "description: Intro to JavaScript, creating a moving background \n",
    "categories: [Lessons]\n",
    "permalink: /lessons/movingbackground\n",
    "comments: true\n",
    "---"
   ]
  },
  {
   "cell_type": "markdown",
   "id": "eacc7aea",
   "metadata": {},
   "source": [
    "## Moving Background \n",
    "\n",
    "A lot of games, mostly platformer 2D games use moving backgrounds. For example, when Mario runs to save the princess, the background moves so it seems like he's actually going somewhere. \n",
    "\n",
    "There are a lot of JavaScript components that go into the code to have a moving background. We're going to go through them."
   ]
  },
  {
   "cell_type": "markdown",
   "id": "7d0113f6",
   "metadata": {},
   "source": [
    "## Canvas \n",
    "In order for anything to show up on your screen in the first place, we have to create a canvas for everything to be drawn on.\n",
    "\n",
    "We're going to need to **declare a constant variable** using the keyword ``const``\n",
    "\n",
    "```js\n",
    "const canvas = document.getElementById(\"world\");\n",
    "// document.getElementById(\"world\") finds the <canvas id=\"world\"> element in the DOM.\n",
    "\n",
    "const ctx = canvas.getContext('2d');\n",
    "// every canvas has a drawing context. for example, getContext('2d') returns the 2D drawing API (methods like drawImage, fillRect, clearRect).\n",
    "// canvas is the DOM element; ctx is what draws pixels\n",
    "```"
   ]
  },
  {
   "cell_type": "markdown",
   "id": "afc2a9fe",
   "metadata": {},
   "source": [
    "## Constant Variables \n",
    "\n",
    "- *Constant Variables* (commonly just called a 'constant') are variables whose value cannot be changed once it’s assigned.\n",
    "\n",
    "For example: "
   ]
  },
  {
   "cell_type": "code",
   "execution_count": null,
   "id": "76092c46",
   "metadata": {
    "vscode": {
     "languageId": "javascript"
    }
   },
   "outputs": [],
   "source": [
    "const name = hope \n",
    "//i've officially made the variable 'name' and it is 'Hope'\n",
    "\n",
    "name = happy \n",
    "//if i try and run this, i will recieve an error because i cannot change a constant variable."
   ]
  },
  {
   "cell_type": "markdown",
   "id": "587c3466",
   "metadata": {},
   "source": [
    "There are other variables that need to be constant in order for the moving background to work, two are very important because they are the main items that make the moving background a moving background. \n",
    "\n",
    "```js\n",
    "const background //self explanatory \n",
    "const sprite // whatever you want to place in the middle of the screen \n",
    "```"
   ]
  }
 ],
 "metadata": {
  "kernelspec": {
   "display_name": "venv",
   "language": "python",
   "name": "python3"
  },
  "language_info": {
   "name": "python",
   "version": "3.12.3"
  }
 },
 "nbformat": 4,
 "nbformat_minor": 5
}
