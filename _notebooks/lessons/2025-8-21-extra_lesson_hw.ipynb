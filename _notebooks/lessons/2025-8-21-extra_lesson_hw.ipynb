{
 "cells": [
  {
   "cell_type": "markdown",
   "metadata": {},
   "source": [
    "---\n",
    "layout: post\n",
    "title: Lesson and Homework for Data Structures\n",
    "description: Lesson on Core Concepts in Algorithms and Complexities in Javascript\n",
    "categories: [Lessons]\n",
    "permalink: /lessons/Javascript Data Structures / Algorithms / Complexities\n",
    "authors: [Akhil]\n",
    "comments: true\n",
    "---"
   ]
  },
  {
   "cell_type": "markdown",
   "metadata": {},
   "source": [
    "## Quick Lesson on JavaScript and Code Core Conceps!!!\n"
   ]
  },
  {
   "cell_type": "markdown",
   "metadata": {
    "vscode": {
     "languageId": "javascript"
    }
   },
   "source": [
    "## What are Time Complexities and Space/Memory Complexities in Code?\n",
    "## What do algorithms and data structures mean in code?"
   ]
  },
  {
   "cell_type": "code",
   "execution_count": null,
   "metadata": {
    "vscode": {
     "languageId": "javascript"
    }
   },
   "outputs": [],
   "source": [
    "/*\n",
    "# JavaScript Data Structures & Algorithms Lesson\n",
    "\n",
    "This lesson will teach you about basic data structures, algorithms, and their **time & memory complexities** in JavaScript. We will include explanations, examples, and exercises for hands-on practice.\n",
    "\n",
    "---\n",
    "\n",
    "## 1. Arrays\n",
    "\n",
    "Arrays store elements in a sequence. They allow random access using an index.\n",
    "\n",
    "let arr = [1, 2, 3, 4];\n",
    "console.log(arr[2]); // Output: 3 '*/\n",
    "\n"
   ]
  },
  {
   "cell_type": "markdown",
   "metadata": {},
   "source": [
    "Common Operations & Time Complexity:\n",
    "\n",
    "Operation\tTime Complexity\n",
    "Access by index\tO(1)\n",
    "Append element\tO(1) amortized\n",
    "Insert at start\tO(n)\n",
    "Delete at index\tO(n)"
   ]
  },
  {
   "cell_type": "code",
   "execution_count": 3,
   "metadata": {
    "vscode": {
     "languageId": "javascript"
    }
   },
   "outputs": [
    {
     "data": {
      "application/javascript": "\nlet arr = [1, 2, 3, 4];\n// TODO: Insert 5 at the start\nconsole.log(arr); // Expected: [5, 1, 2, 3, 4]\n",
      "text/plain": [
       "<IPython.core.display.Javascript object>"
      ]
     },
     "metadata": {},
     "output_type": "display_data"
    }
   ],
   "source": [
    "%%js\n",
    "\n",
    "let arr = [1, 2, 3, 4];\n",
    "// TODO: Insert 5 at the start\n",
    "console.log(arr); // Expected: [5, 1, 2, 3, 4]\n"
   ]
  },
  {
   "cell_type": "markdown",
   "metadata": {},
   "source": [
    "# 2. Loops and Iteration Complexity\n",
    "\n",
    "Iterating over an array:"
   ]
  },
  {
   "cell_type": "code",
   "execution_count": null,
   "metadata": {
    "vscode": {
     "languageId": "javascript"
    }
   },
   "outputs": [],
   "source": [
    "%%js\n",
    "\n",
    "for (let i = 0; i < arr.length; i++) {\n",
    "  console.log(arr[i]);\n",
    "}"
   ]
  },
  {
   "cell_type": "markdown",
   "metadata": {},
   "source": [
    "Iterating once → O(n)\n",
    "\n",
    "Nested loops → O(n^2), etc.\n",
    "Exercise 2: Count even numbers in an array"
   ]
  },
  {
   "cell_type": "code",
   "execution_count": null,
   "metadata": {
    "vscode": {
     "languageId": "javascript"
    }
   },
   "outputs": [],
   "source": [
    "%%js\n",
    "\n",
    "let arr = [1, 2, 3, 4, 5, 6];\n",
    "let count = 0;\n",
    "// TODO: Loop through arr and count even numbers\n",
    "console.log(count); // Expected: 3"
   ]
  },
  {
   "cell_type": "markdown",
   "metadata": {},
   "source": [
    "# 3. Functions & Simple Algorithms\n",
    "Example: Sum of an array"
   ]
  },
  {
   "cell_type": "code",
   "execution_count": null,
   "metadata": {
    "vscode": {
     "languageId": "javascript"
    }
   },
   "outputs": [],
   "source": [
    "%%js\n",
    "\n",
    "function sumArray(arr) {\n",
    "  let sum = 0;\n",
    "  for (let i = 0; i < arr.length; i++) {\n",
    "    sum += arr[i];\n",
    "  }\n",
    "  return sum;\n",
    "}\n",
    "console.log(sumArray([1, 2, 3])); // 6\n"
   ]
  },
  {
   "cell_type": "markdown",
   "metadata": {},
   "source": [
    "Time Complexity: O(n)\n",
    "Memory Complexity: O(1) (constant extra memory)"
   ]
  },
  {
   "cell_type": "markdown",
   "metadata": {},
   "source": [
    "# Exercise 3: Write a function to find the maximum element in an array"
   ]
  },
  {
   "cell_type": "code",
   "execution_count": null,
   "metadata": {
    "vscode": {
     "languageId": "javascript"
    }
   },
   "outputs": [],
   "source": [
    "%%js\n",
    "\n",
    "function maxElement(arr) {\n",
    "  // TODO: return the maximum element\n",
    "}\n",
    "console.log(maxElement([5, 2, 9, 1])); // Expected: 9\n"
   ]
  },
  {
   "cell_type": "markdown",
   "metadata": {},
   "source": [
    "# 4. Objects (Hash Maps)\n",
    "\n",
    "Objects store key-value pairs."
   ]
  },
  {
   "cell_type": "code",
   "execution_count": null,
   "metadata": {
    "vscode": {
     "languageId": "javascript"
    }
   },
   "outputs": [],
   "source": [
    "%%js\n",
    "\n",
    "let obj = {a: 1, b: 2};\n",
    "console.log(obj[\"a\"]); // 1\n",
    "obj[\"c\"] = 3; // Add a key\n",
    "delete obj[\"b\"]; // Delete a key\n"
   ]
  },
  {
   "cell_type": "markdown",
   "metadata": {},
   "source": [
    "Common Operations & Time Complexity:\n",
    "\n",
    "Operation\tTime Complexity\n",
    "Access key\tO(1)\n",
    "Insert key\tO(1)\n",
    "Delete key\tO(1)"
   ]
  },
  {
   "cell_type": "markdown",
   "metadata": {
    "vscode": {
     "languageId": "javascript"
    }
   },
   "source": [
    "# Exercise 4: Fill in the code to count frequency of letters"
   ]
  },
  {
   "cell_type": "code",
   "execution_count": null,
   "metadata": {
    "vscode": {
     "languageId": "javascript"
    }
   },
   "outputs": [],
   "source": [
    "%%js\n",
    "\n",
    "let str = \"hello\";\n",
    "let freq = {};\n",
    "// TODO: Count frequency of each letter in str\n",
    "console.log(freq); // Expected: { h: 1, e: 1, l: 2, o: 1 }\n"
   ]
  },
  {
   "cell_type": "code",
   "execution_count": null,
   "metadata": {
    "vscode": {
     "languageId": "javascript"
    }
   },
   "outputs": [],
   "source": [
    "%%js\n",
    "\n",
    "function example1(arr) {\n",
    "  for (let i = 0; i < arr.length; i++) {\n",
    "    console.log(arr[i]);\n",
    "  }\n",
    "}\n",
    "\n",
    "function example2(arr) {\n",
    "  for (let i = 0; i < arr.length; i++) {\n",
    "    for (let j = 0; j < arr.length; j++) {\n",
    "      console.log(i, j);\n",
    "    }\n",
    "  }\n",
    "}\n",
    "// Identification of Time Complexities"
   ]
  },
  {
   "cell_type": "markdown",
   "metadata": {},
   "source": [
    "# Challenge - Reverse an Array"
   ]
  },
  {
   "cell_type": "code",
   "execution_count": null,
   "metadata": {
    "vscode": {
     "languageId": "javascript"
    }
   },
   "outputs": [],
   "source": [
    "%%js\n",
    "\n",
    "let arr = [1, 2, 3, 4];\n",
    "// TODO: Reverse arr in-place\n",
    "console.log(arr); // Expected: [4, 3, 2, 1]\n"
   ]
  },
  {
   "cell_type": "markdown",
   "metadata": {},
   "source": [
    "# Summary:\n",
    "\n",
    "# Arrays: O(1) access, O(n) insert/delete\n",
    "\n",
    "# Loops: Analyze iterations for time complexity\n",
    "\n",
    "# Objects: Key-value pairs, O(1) operations\n",
    "\n",
    "# Always analyze your algorithm for time and memory usage\n",
    "\n",
    "# Memory Complexity vs Run-Time Complexity - How much extra memory and time/operations you use with respect to the input"
   ]
  }
 ],
 "metadata": {
  "kernelspec": {
   "display_name": "venv",
   "language": "python",
   "name": "python3"
  },
  "language_info": {
   "codemirror_mode": {
    "name": "ipython",
    "version": 3
   },
   "file_extension": ".py",
   "mimetype": "text/x-python",
   "name": "python",
   "nbconvert_exporter": "python",
   "pygments_lexer": "ipython3",
   "version": "3.9.6"
  }
 },
 "nbformat": 4,
 "nbformat_minor": 2
}
