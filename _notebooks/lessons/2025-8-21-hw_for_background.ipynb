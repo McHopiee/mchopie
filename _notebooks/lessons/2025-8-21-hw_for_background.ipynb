{
 "cells": [
  {
   "cell_type": "code",
   "execution_count": null,
   "metadata": {
    "vscode": {
     "languageId": "yaml"
    }
   },
   "outputs": [],
   "source": [
    "---\n",
    "layout: post\n",
    "title: Moving Background Homework\n",
    "description: Review of JavaScript concepts through creating a moving background\n",
    "categories: [Lessons]\n",
    "permalink: /lessons/MovingBackgroundHomework\n",
    "authors: [Akhil, Shayan]\n",
    "comments: true\n",
    "---"
   ]
  },
  {
   "cell_type": "markdown",
   "metadata": {},
   "source": [
    "We will assign homework for how to use javascript to create moving, dynamic background in web pages!"
   ]
  }
 ],
 "metadata": {
  "language_info": {
   "name": "python"
  }
 },
 "nbformat": 4,
 "nbformat_minor": 2
}
