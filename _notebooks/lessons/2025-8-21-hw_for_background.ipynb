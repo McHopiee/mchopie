{
 "cells": [
  {
   "cell_type": "markdown",
   "metadata": {},
   "source": [
    "---\n",
    "layout: post\n",
    "title: Moving Background Homework\n",
    "description: Review of JavaScript concepts through creating a moving background\n",
    "categories: [Lessons]\n",
    "permalink: /lessons/MovingBackgroundHomework\n",
    "authors: [Akhil, Shayan]\n",
    "comments: true\n",
    "---"
   ]
  },
  {
   "cell_type": "markdown",
   "metadata": {},
   "source": [
    "## Part 1: JavaScript Core Concepts (Basics)\n"
   ]
  },
  {
   "cell_type": "code",
   "execution_count": 8,
   "metadata": {
    "vscode": {
     "languageId": "javascript"
    }
   },
   "outputs": [
    {
     "data": {
      "application/javascript": "\n// Activity 1: Variable Fixing\n// This code has mistakes. Fix them so it works correctly.\n\nvar name = \"Mario\";\nlet score; // declare score but don't assign yet\nconst lives = 3;\n\nscore = 100;\n\nconsole.log(\"Player:\", name);\nconsole.log(\"Score:\", score);\nconsole.log(\"Lives:\", lives);\n\n// TODO: Change `score` so it increases by 50 and log the new value.\n",
      "text/plain": [
       "<IPython.core.display.Javascript object>"
      ]
     },
     "metadata": {},
     "output_type": "display_data"
    }
   ],
   "source": [
    "%%js\n",
    "\n",
    "// Activity 1: Variable Fixing\n",
    "// This code has mistakes. Fix them so it works correctly.\n",
    "\n",
    "var name = \"Mario\";\n",
    "let score; // declare score but don't assign yet\n",
    "const lives = 3;\n",
    "\n",
    "score = 100;\n",
    "\n",
    "console.log(\"Player:\", name);\n",
    "console.log(\"Score:\", score);\n",
    "console.log(\"Lives:\", lives);\n",
    "\n",
    "// TODO: Change `score` so it increases by 50 and log the new value.\n"
   ]
  },
  {
   "cell_type": "code",
   "execution_count": 9,
   "metadata": {
    "vscode": {
     "languageId": "javascript"
    }
   },
   "outputs": [
    {
     "data": {
      "application/javascript": "\n// Activity 2: Function Completion\n// Finish the function so it multiplies two numbers instead of adding.\n\nfunction multiply(a, b) {\n    // TODO: Replace return statement so it multiplies\n    return a + b;\n}\n\nconsole.log(\"Expected 20:\", multiply(4, 5));\n",
      "text/plain": [
       "<IPython.core.display.Javascript object>"
      ]
     },
     "metadata": {},
     "output_type": "display_data"
    }
   ],
   "source": [
    "%%js\n",
    "\n",
    "// Activity 2: Function Completion\n",
    "// Finish the function so it multiplies two numbers instead of adding.\n",
    "\n",
    "function multiply(a, b) {\n",
    "    // TODO: Replace return statement so it multiplies\n",
    "    return a + b;\n",
    "}\n",
    "\n",
    "console.log(\"Expected 20:\", multiply(4, 5));\n"
   ]
  },
  {
   "cell_type": "markdown",
   "metadata": {},
   "source": [
    "## Part 2: Canvas Activities"
   ]
  },
  {
   "cell_type": "code",
   "execution_count": 11,
   "metadata": {
    "vscode": {
     "languageId": "javascript"
    }
   },
   "outputs": [
    {
     "data": {
      "application/javascript": "\n// Activity 3: Draw Your Own Shape\n// The following draws a blue rectangle. Change it to draw a green square.\n\nlet canvas = document.createElement(\"canvas\");\ndocument.body.appendChild(canvas);\nlet ctx = canvas.getContext(\"2d\");\n\ncanvas.width = 400;\ncanvas.height = 300;\ncanvas.style.border = \"1px solid black\";\n\nctx.fillStyle = \"blue\";\nctx.fillRect(50, 50, 200, 100);\n\n// TODO: Change the color and dimensions to make it a green square.\n",
      "text/plain": [
       "<IPython.core.display.Javascript object>"
      ]
     },
     "metadata": {},
     "output_type": "display_data"
    }
   ],
   "source": [
    "%%js\n",
    "\n",
    "// Activity 3: Draw Your Own Shape\n",
    "// The following draws a blue rectangle. Change it to draw a green square.\n",
    "\n",
    "let canvas = document.createElement(\"canvas\");\n",
    "document.body.appendChild(canvas);\n",
    "let ctx = canvas.getContext(\"2d\");\n",
    "\n",
    "canvas.width = 400;\n",
    "canvas.height = 300;\n",
    "canvas.style.border = \"1px solid black\";\n",
    "\n",
    "ctx.fillStyle = \"blue\";\n",
    "ctx.fillRect(50, 50, 200, 100);\n",
    "\n",
    "// TODO: Change the color and dimensions to make it a green square.\n"
   ]
  },
  {
   "cell_type": "code",
   "execution_count": 12,
   "metadata": {
    "vscode": {
     "languageId": "javascript"
    }
   },
   "outputs": [
    {
     "data": {
      "application/javascript": "\n// Activity 4: Move a Rectangle\n// This code draws a rectangle. Modify it so it moves 2px to the right each frame.\n\nlet canvas2 = document.createElement(\"canvas\");\ndocument.body.appendChild(canvas2);\nlet ctx2 = canvas2.getContext(\"2d\");\n\ncanvas2.width = 400;\ncanvas2.height = 200;\ncanvas2.style.border = \"1px solid black\";\n\nlet x = 20;\n\nfunction animateRect() {\n    ctx2.clearRect(0, 0, canvas2.width, canvas2.height);\n    ctx2.fillStyle = \"purple\";\n    ctx2.fillRect(x, 50, 50, 50);\n\n    // TODO: increase `x` so the square moves right\n    requestAnimationFrame(animateRect);\n}\nanimateRect();\n",
      "text/plain": [
       "<IPython.core.display.Javascript object>"
      ]
     },
     "metadata": {},
     "output_type": "display_data"
    }
   ],
   "source": [
    "%%js\n",
    "\n",
    "// Activity 4: Move a Rectangle\n",
    "// This code draws a rectangle. Modify it so it moves 2px to the right each frame.\n",
    "\n",
    "let canvas2 = document.createElement(\"canvas\");\n",
    "document.body.appendChild(canvas2);\n",
    "let ctx2 = canvas2.getContext(\"2d\");\n",
    "\n",
    "canvas2.width = 400;\n",
    "canvas2.height = 200;\n",
    "canvas2.style.border = \"1px solid black\";\n",
    "\n",
    "let x = 20;\n",
    "\n",
    "function animateRect() {\n",
    "    ctx2.clearRect(0, 0, canvas2.width, canvas2.height);\n",
    "    ctx2.fillStyle = \"purple\";\n",
    "    ctx2.fillRect(x, 50, 50, 50);\n",
    "\n",
    "    // TODO: increase `x` so the square moves right\n",
    "    requestAnimationFrame(animateRect);\n",
    "}\n",
    "animateRect();\n"
   ]
  },
  {
   "cell_type": "markdown",
   "metadata": {},
   "source": [
    "## Part 3: Moving Background Activities\n"
   ]
  },
  {
   "cell_type": "code",
   "execution_count": 13,
   "metadata": {
    "vscode": {
     "languageId": "javascript"
    }
   },
   "outputs": [
    {
     "data": {
      "application/javascript": "\n// Activity 5: Background Image Setup\n// The code is missing parts. Fill in the missing lines.\n\nlet canvas3 = document.createElement(\"canvas\");\ndocument.body.appendChild(canvas3);\nlet ctx3 = canvas3.getContext(\"2d\");\n\ncanvas3.width = 600;\ncanvas3.height = 200;\ncanvas3.style.border = \"1px solid black\";\n\n// TODO: Declare background and sprite as images\n// const background = ...\n// const sprite = ...\n\n// TODO: Set `background.src` and `sprite.src` to image URLs\n",
      "text/plain": [
       "<IPython.core.display.Javascript object>"
      ]
     },
     "metadata": {},
     "output_type": "display_data"
    }
   ],
   "source": [
    "%%js\n",
    "\n",
    "// Activity 5: Background Image Setup\n",
    "// The code is missing parts. Fill in the missing lines.\n",
    "\n",
    "let canvas3 = document.createElement(\"canvas\");\n",
    "document.body.appendChild(canvas3);\n",
    "let ctx3 = canvas3.getContext(\"2d\");\n",
    "\n",
    "canvas3.width = 600;\n",
    "canvas3.height = 200;\n",
    "canvas3.style.border = \"1px solid black\";\n",
    "\n",
    "// TODO: Declare background and sprite as images\n",
    "// const background = ...\n",
    "// const sprite = ...\n",
    "\n",
    "// TODO: Set `background.src` and `sprite.src` to image URLs\n"
   ]
  },
  {
   "cell_type": "code",
   "execution_count": null,
   "metadata": {
    "vscode": {
     "languageId": "javascript"
    }
   },
   "outputs": [],
   "source": [
    "%%js\n",
    "\n",
    "// Activity 6: Animate the Background\n",
    "// The background should move left, but part of the code is missing.\n",
    "// Complete the TODOs.\n",
    "\n",
    "let canvas4 = document.createElement(\"canvas\");\n",
    "document.body.appendChild(canvas4);\n",
    "let ctx4 = canvas4.getContext(\"2d\");\n",
    "\n",
    "canvas4.width = 600;\n",
    "canvas4.height = 200;\n",
    "canvas4.style.border = \"1px solid black\";\n",
    "\n",
    "const background2 = new Image();\n",
    "background2.src = \"https://i.imgur.com/3e5pRfj.jpeg\";\n",
    "\n",
    "let bgX = 0;\n",
    "\n",
    "function animateBackground() {\n",
    "    ctx4.clearRect(0, 0, canvas4.width, canvas4.height);\n",
    "\n",
    "    ctx4.drawImage(background2, bgX, 0, canvas4.width, canvas4.height);\n",
    "    ctx4.drawImage(background2, bgX + canvas4.width, 0, canvas4.width, canvas4.height);\n",
    "\n",
    "    // TODO: decrease bgX so it moves left\n",
    "    // TODO: reset bgX when it reaches -canvas4.width\n",
    "\n",
    "    requestAnimationFrame(animateBackground);\n",
    "}\n",
    "background2.onload = animateBackground;\n"
   ]
  },
  {
   "cell_type": "code",
   "execution_count": null,
   "metadata": {
    "vscode": {
     "languageId": "javascript"
    }
   },
   "outputs": [
    {
     "data": {
      "application/javascript": "\n// Activity 7 (Challenge): Floating Sprite\n// Modify this so the sprite \"bobs\" up and down while the background moves.\n\nlet canvas5 = document.createElement(\"canvas\");\ndocument.body.appendChild(canvas5);\nlet ctx5 = canvas5.getContext(\"2d\");\n\ncanvas5.width = 600;\ncanvas5.height = 200;\ncanvas5.style.border = \"1px solid black\";\n\nconst bg = new Image();\nbg.src = \"https://i.imgur.com/3e5pRfj.jpeg\";\n\nconst sprite = new Image();\nsprite.src = \"https://i.imgur.com/Qbl1bLZ.png\";\n\nlet bgX2 = 0;\nlet frame = 0;\n\nfunction animateScene() {\n    ctx5.clearRect(0, 0, canvas5.width, canvas5.height);\n\n    ctx5.drawImage(bg, bgX2, 0, canvas5.width, canvas5.height);\n    ctx5.drawImage(bg, bgX2 + canvas5.width, 0, canvas5.width, canvas5.height);\n\n    let spriteX = canvas5.width / 2 - 50;\n    let spriteY = canvas5.height / 2 - 50;\n\n    // TODO: add vertical floating effect using Math.sin() and frame\n    ctx5.drawImage(sprite, spriteX, spriteY, 100, 100);\n\n    bgX2 -= 2;\n    if (bgX2 <= -canvas5.width) {\n        bgX2 = 0;\n    }\n\n    frame++;\n    requestAnimationFrame(animateScene);\n}\nbg.onload = animateScene;\n",
      "text/plain": [
       "<IPython.core.display.Javascript object>"
      ]
     },
     "metadata": {},
     "output_type": "display_data"
    }
   ],
   "source": [
    "%%js\n",
    "\n",
    "// Activity 7 (Challenge): Floating Sprite!\n",
    "// Modify this so the sprite \"bobs\" up and down while the background moves.\n",
    "\n",
    "let canvas5 = document.createElement(\"canvas\");\n",
    "document.body.appendChild(canvas5);\n",
    "let ctx5 = canvas5.getContext(\"2d\");\n",
    "\n",
    "canvas5.width = 600;\n",
    "canvas5.height = 200;\n",
    "canvas5.style.border = \"1px solid black\";\n",
    "\n",
    "const bg = new Image();\n",
    "bg.src = \"https://i.imgur.com/3e5pRfj.jpeg\";\n",
    "\n",
    "const sprite = new Image();\n",
    "sprite.src = \"https://i.imgur.com/Qbl1bLZ.png\";\n",
    "\n",
    "let bgX2 = 0;\n",
    "let frame = 0;\n",
    "\n",
    "function animateScene() {\n",
    "    ctx5.clearRect(0, 0, canvas5.width, canvas5.height);\n",
    "\n",
    "    ctx5.drawImage(bg, bgX2, 0, canvas5.width, canvas5.height);\n",
    "    ctx5.drawImage(bg, bgX2 + canvas5.width, 0, canvas5.width, canvas5.height);\n",
    "\n",
    "    let spriteX = canvas5.width / 2 - 50;\n",
    "    let spriteY = canvas5.height / 2 - 50;\n",
    "\n",
    "    // TODO: add vertical floating effect using Math.sin() and frame\n",
    "    ctx5.drawImage(sprite, spriteX, spriteY, 100, 100);\n",
    "\n",
    "    bgX2 -= 2;\n",
    "    if (bgX2 <= -canvas5.width) {\n",
    "        bgX2 = 0;\n",
    "    }\n",
    "\n",
    "    frame++;\n",
    "    requestAnimationFrame(animateScene);\n",
    "}\n",
    "bg.onload = animateScene;\n"
   ]
  },
  {
   "cell_type": "markdown",
   "metadata": {},
   "source": [
    "## Extra Practice Questions\n",
    "\n",
    "1. Why does `requestAnimationFrame` work better than `setInterval` for animations?  \n",
    "2. What happens if you forget to call `ctx.clearRect()` inside an animation loop?  \n",
    "3. How would you modify the background speed so it moves faster?  \n",
    "4. (Challenge) Make the sprite move left and right with the arrow keys.  \n"
   ]
  },
  {
   "cell_type": "markdown",
   "metadata": {
    "vscode": {
     "languageId": "javascript"
    }
   },
   "source": [
    "# Homework: Moving Background with JavaScript and Canvas\n",
    "\n",
    "In this lesson, we learned how to make a background move continuously while keeping a sprite centered.\n",
    "\n",
    "We will now practice by filling in missing pieces of code and editing snippets.\n",
    "\n",
    "---\n",
    "\n",
    "## Part 1: Understanding the Core\n",
    "\n",
    "The moving background is achieved by:\n",
    "1. Updating the `x` position of the background each frame.\n",
    "2. Drawing two images side by side to create a seamless loop.\n",
    "3. Using `requestAnimationFrame` for smooth animation.\n",
    "\n",
    "---\n",
    "\n",
    "## Activity 1: Fill in the Code\n",
    "\n",
    "Below is the `Background` class with missing code.  \n",
    "Fill in the blanks (`???`) to complete it.\n",
    "\n",
    "```javascript\n",
    "class Background extends GameObject {\n",
    "  update() {\n",
    "    // Shift the background left\n",
    "    this.x = (this.x - ???) % ???;\n",
    "  }\n",
    "\n",
    "  draw(ctx) {\n",
    "    // Draw two images side by side\n",
    "    ctx.drawImage(this.image, this.x, this.y, this.width, this.height);\n",
    "    ctx.drawImage(this.image, this.x + ???, this.y, this.width, this.height);\n",
    "  }\n",
    "}\n"
   ]
  },
  {
   "cell_type": "markdown",
   "metadata": {},
   "source": [
    "# Activity 2: Edit the Code\n",
    "\n",
    "Right now, the background always scrolls to the left.\n",
    "Task: Modify the update() method so the background can also scroll right when this.speed is negative.\n",
    "\n",
    "Hint: You’ll need to adjust the math inside update() so the % this.width logic works both ways."
   ]
  },
  {
   "cell_type": "markdown",
   "metadata": {},
   "source": [
    "# Activity 3 - Speed Control\n",
    "Currently in the game the speed is fixed:"
   ]
  },
  {
   "cell_type": "code",
   "execution_count": null,
   "metadata": {
    "vscode": {
     "languageId": "javascript"
    }
   },
   "outputs": [],
   "source": [
    "var gameSpeed = 5;\n"
   ]
  },
  {
   "cell_type": "markdown",
   "metadata": {
    "vscode": {
     "languageId": "javascript"
    }
   },
   "source": [
    "# Task:\n",
    "\n",
    "Add keyboard controls so that:\n",
    "\n",
    "Pressing the Arrow Up increases gameSpeed.\n",
    "\n",
    "Pressing the Arrow Down decreases gameSpeed.\n",
    "\n",
    "Starter Code (fill in the blanks):"
   ]
  },
  {
   "cell_type": "code",
   "execution_count": null,
   "metadata": {
    "vscode": {
     "languageId": "javascript"
    }
   },
   "outputs": [],
   "source": [
    "window.addEventListener('keydown', function(event) {\n",
    "  if (event.key === \"ArrowUp\") {\n",
    "    gameSpeed += ???;\n",
    "  } else if (event.key === \"ArrowDown\") {\n",
    "    gameSpeed = Math.max(1, gameSpeed - ???);\n",
    "  }\n",
    "});\n"
   ]
  },
  {
   "cell_type": "markdown",
   "metadata": {},
   "source": [
    "# Activity 4: Add a Second Background Layer\n",
    "\n",
    "Parallax scrolling makes games look more realistic.\n",
    "You can add two background objects moving at different speeds.\n",
    "\n",
    "Task:\n",
    "Duplicate the backgroundObj creation code, but use a different speedRatio.\n",
    "Then, draw both layers in the animate() loop.\n",
    "\n",
    "Starter Code:"
   ]
  },
  {
   "cell_type": "code",
   "execution_count": null,
   "metadata": {
    "vscode": {
     "languageId": "javascript"
    }
   },
   "outputs": [],
   "source": [
    "// Background layers\n",
    "const backgroundObj1 = new Background(backgroundImg, canvasWidth, canvasHeight, 0, 0, 0.1);\n",
    "const backgroundObj2 = new Background(backgroundImg, canvasWidth, canvasHeight, 0, 0, ???);  // slower speed\n",
    "\n",
    "function animate() {\n",
    "  ctx.clearRect(0, 0, canvasWidth, canvasHeight);\n",
    "  backgroundObj1.update();\n",
    "  backgroundObj1.draw(ctx);\n",
    "  backgroundObj2.update();\n",
    "  backgroundObj2.draw(ctx);\n",
    "  spriteObj.draw(ctx);\n",
    "  requestAnimationFrame(animate);\n",
    "}\n"
   ]
  },
  {
   "cell_type": "markdown",
   "metadata": {},
   "source": [
    "# Activity 5: Complexity Question\n",
    "\n",
    "Each frame, the program:\n",
    "\n",
    "Updates background position(s).\n",
    "\n",
    "Draws background(s).\n",
    "\n",
    "Draws the sprite.\n",
    "\n",
    "Question:\n",
    "\n",
    "If there are n background layers, what is the time complexity of each frame’s animate() call?\n",
    "\n",
    "What about memory complexity?"
   ]
  },
  {
   "cell_type": "markdown",
   "metadata": {},
   "source": [
    "# Basic Instructions:\n",
    "\n",
    "1) Create a file called something like `background.md` just as long as it ends with `.md` (Strongly recommend placing it in a folder named hacks)\n",
    "\n",
    "2) In your new file, after creating your heading, make sure to create an ID for your image, something like `<canvas id=\"world\"></canvas>`, you can copy this ID and change 'world' to whatever you want.\n",
    "\n",
    "3) Still in the same file, under the ID, open your script for code by typing `<script>`, and under that, create your code for your moving image using code displayed from lesson/popcorn hacks\n",
    "\n",
    "4) Finish your script (code for background) by adding `</script>`, this should be the last line of the file.\n"
   ]
  },
  {
   "cell_type": "markdown",
   "metadata": {},
   "source": [
    "# Grading (May be modified in class)\n",
    "- .55 - No work done, no effort shown by group or student\n",
    "\n",
    "- .75 - Student shows they put in effort, but didn't complete any assigned tasks\n",
    "\n",
    "- .8 - Background shows, but isn't animated\n",
    "\n",
    "- .85 - Background shows, isn't animated, but there is a second background object\n",
    "\n",
    "- .89 - Background shows and IS ANIMATED, but work is submitted late and Complexity Questions are unanswered. (There may be some exeptions for late work if students were not present for the lesson)\n",
    "\n",
    "- .90 - Background shows and IS ANIMATED, complexity questions are not done or answered incorrectly\n",
    "\n",
    "- .91 - Background is shown and animated, one complexity question is answered AND CORRECT\n",
    "\n",
    "- .92 - Background is shown and animated, both complexity questions are answered correctly"
   ]
  }
 ],
 "metadata": {
  "kernelspec": {
   "display_name": "venv",
   "language": "python",
   "name": "python3"
  },
  "language_info": {
   "codemirror_mode": {
    "name": "ipython",
    "version": 3
   },
   "file_extension": ".py",
   "mimetype": "text/x-python",
   "name": "python",
   "nbconvert_exporter": "python",
   "pygments_lexer": "ipython3",
   "version": "3.9.6"
  }
 },
 "nbformat": 4,
 "nbformat_minor": 2
}
