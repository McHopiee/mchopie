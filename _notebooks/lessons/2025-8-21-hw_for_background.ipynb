{
 "cells": [
  {
   "cell_type": "markdown",
   "metadata": {},
   "source": [
    "---\n",
    "layout: post\n",
    "title: Moving Background Homework\n",
    "description: Review of JavaScript concepts through creating a moving background\n",
    "categories: [Lessons]\n",
    "permalink: /lessons/MovingBackgroundHomework\n",
    "authors: [Akhil, Shayan]\n",
    "comments: true\n",
    "---"
   ]
  },
  {
   "cell_type": "markdown",
   "metadata": {},
   "source": [
    "## Part 1: JavaScript Core Concepts (Basics)\n"
   ]
  },
  {
   "cell_type": "code",
   "execution_count": 5,
   "metadata": {
    "vscode": {
     "languageId": "javascript"
    }
   },
   "outputs": [
    {
     "data": {
      "application/javascript": "\n// Activity 1: Variable Fixing\n// This code has mistakes. Fix them so it works correctly.\n\nvar name = \"Mario\";\nlet score; // declare score but don't assign yet\nconst lives = 3;\n\nscore = 100;\n\nconsole.log(\"Player:\", name);\nconsole.log(\"Score:\", score);\nconsole.log(\"Lives:\", lives);\n\n// TODO: Change `score` so it increases by 50 and log the new value.\n",
      "text/plain": [
       "<IPython.core.display.Javascript object>"
      ]
     },
     "metadata": {},
     "output_type": "display_data"
    }
   ],
   "source": [
    "%%js\n",
    "\n",
    "// Activity 1: Variable Fixing\n",
    "// This code has mistakes. Fix them so it works correctly.\n",
    "\n",
    "var name = \"Mario\";\n",
    "let score; // declare score but don't assign yet\n",
    "const lives = 3;\n",
    "\n",
    "score = 100;\n",
    "\n",
    "console.log(\"Player:\", name);\n",
    "console.log(\"Score:\", score);\n",
    "console.log(\"Lives:\", lives);\n",
    "\n",
    "// TODO: Change `score` so it increases by 50 and log the new value.\n"
   ]
  },
  {
   "cell_type": "code",
   "execution_count": 8,
   "metadata": {
    "vscode": {
     "languageId": "javascript"
    }
   },
   "outputs": [
    {
     "data": {
      "application/javascript": "\n// Activity 2: Function Completion\n// Finish the function so it multiplies two numbers instead of adding.\n\nfunction multiply(a, b) {\n    // TODO: Replace return statement so it multiplies\n    return a + b;\n}\n\nconsole.log(\"Expected 20:\", multiply(4, 5));\n",
      "text/plain": [
       "<IPython.core.display.Javascript object>"
      ]
     },
     "metadata": {},
     "output_type": "display_data"
    }
   ],
   "source": [
    "%%js\n",
    "\n",
    "// Activity 2: Function Completion\n",
    "// Finish the function so it multiplies two numbers instead of adding.\n",
    "\n",
    "function multiply(a, b) {\n",
    "    // TODO: Replace return statement so it multiplies\n",
    "    return a + b;\n",
    "}\n",
    "\n",
    "console.log(\"Expected 20:\", multiply(4, 5));\n"
   ]
  },
  {
   "cell_type": "markdown",
   "metadata": {},
   "source": [
    "## Part 2: Canvas Activities"
   ]
  },
  {
   "cell_type": "code",
   "execution_count": null,
   "metadata": {
    "vscode": {
     "languageId": "javascript"
    }
   },
   "outputs": [
    {
     "ename": "SyntaxError",
     "evalue": "invalid syntax (4224321443.py, line 1)",
     "output_type": "error",
     "traceback": [
      "\u001b[0;36m  Cell \u001b[0;32mIn[4], line 1\u001b[0;36m\u001b[0m\n\u001b[0;31m    // Activity 3: Draw Your Own Shape\u001b[0m\n\u001b[0m    ^\u001b[0m\n\u001b[0;31mSyntaxError\u001b[0m\u001b[0;31m:\u001b[0m invalid syntax\n"
     ]
    }
   ],
   "source": [
    "%%js\n",
    "\n",
    "// Activity 3: Draw Your Own Shape\n",
    "// The following draws a blue rectangle. Change it to draw a green square.\n",
    "\n",
    "let canvas = document.createElement(\"canvas\");\n",
    "document.body.appendChild(canvas);\n",
    "let ctx = canvas.getContext(\"2d\");\n",
    "\n",
    "canvas.width = 400;\n",
    "canvas.height = 300;\n",
    "canvas.style.border = \"1px solid black\";\n",
    "\n",
    "ctx.fillStyle = \"blue\";\n",
    "ctx.fillRect(50, 50, 200, 100);\n",
    "\n",
    "// TODO: Change the color and dimensions to make it a green square.\n"
   ]
  },
  {
   "cell_type": "code",
   "execution_count": null,
   "metadata": {
    "vscode": {
     "languageId": "javascript"
    }
   },
   "outputs": [],
   "source": [
    "%%js\n",
    "\n",
    "// Activity 4: Move a Rectangle\n",
    "// This code draws a rectangle. Modify it so it moves 2px to the right each frame.\n",
    "\n",
    "let canvas2 = document.createElement(\"canvas\");\n",
    "document.body.appendChild(canvas2);\n",
    "let ctx2 = canvas2.getContext(\"2d\");\n",
    "\n",
    "canvas2.width = 400;\n",
    "canvas2.height = 200;\n",
    "canvas2.style.border = \"1px solid black\";\n",
    "\n",
    "let x = 20;\n",
    "\n",
    "function animateRect() {\n",
    "    ctx2.clearRect(0, 0, canvas2.width, canvas2.height);\n",
    "    ctx2.fillStyle = \"purple\";\n",
    "    ctx2.fillRect(x, 50, 50, 50);\n",
    "\n",
    "    // TODO: increase `x` so the square moves right\n",
    "    requestAnimationFrame(animateRect);\n",
    "}\n",
    "animateRect();\n"
   ]
  },
  {
   "cell_type": "markdown",
   "metadata": {},
   "source": [
    "## Part 3: Moving Background Activities\n"
   ]
  },
  {
   "cell_type": "code",
   "execution_count": null,
   "metadata": {
    "vscode": {
     "languageId": "javascript"
    }
   },
   "outputs": [],
   "source": [
    "%%js\n",
    "\n",
    "// Activity 5: Background Image Setup\n",
    "// The code is missing parts. Fill in the missing lines.\n",
    "\n",
    "let canvas3 = document.createElement(\"canvas\");\n",
    "document.body.appendChild(canvas3);\n",
    "let ctx3 = canvas3.getContext(\"2d\");\n",
    "\n",
    "canvas3.width = 600;\n",
    "canvas3.height = 200;\n",
    "canvas3.style.border = \"1px solid black\";\n",
    "\n",
    "// TODO: Declare background and sprite as images\n",
    "// const background = ...\n",
    "// const sprite = ...\n",
    "\n",
    "// TODO: Set `background.src` and `sprite.src` to image URLs\n"
   ]
  },
  {
   "cell_type": "code",
   "execution_count": null,
   "metadata": {
    "vscode": {
     "languageId": "javascript"
    }
   },
   "outputs": [],
   "source": [
    "%%js\n",
    "\n",
    "// Activity 6: Animate the Background\n",
    "// The background should move left, but part of the code is missing.\n",
    "// Complete the TODOs.\n",
    "\n",
    "let canvas4 = document.createElement(\"canvas\");\n",
    "document.body.appendChild(canvas4);\n",
    "let ctx4 = canvas4.getContext(\"2d\");\n",
    "\n",
    "canvas4.width = 600;\n",
    "canvas4.height = 200;\n",
    "canvas4.style.border = \"1px solid black\";\n",
    "\n",
    "const background2 = new Image();\n",
    "background2.src = \"https://i.imgur.com/3e5pRfj.jpeg\";\n",
    "\n",
    "let bgX = 0;\n",
    "\n",
    "function animateBackground() {\n",
    "    ctx4.clearRect(0, 0, canvas4.width, canvas4.height);\n",
    "\n",
    "    ctx4.drawImage(background2, bgX, 0, canvas4.width, canvas4.height);\n",
    "    ctx4.drawImage(background2, bgX + canvas4.width, 0, canvas4.width, canvas4.height);\n",
    "\n",
    "    // TODO: decrease bgX so it moves left\n",
    "    // TODO: reset bgX when it reaches -canvas4.width\n",
    "\n",
    "    requestAnimationFrame(animateBackground);\n",
    "}\n",
    "background2.onload = animateBackground;\n"
   ]
  },
  {
   "cell_type": "code",
   "execution_count": null,
   "metadata": {
    "vscode": {
     "languageId": "javascript"
    }
   },
   "outputs": [
    {
     "data": {
      "application/javascript": "\n// Activity 7 (Challenge): Floating Sprite\n// Modify this so the sprite \"bobs\" up and down while the background moves.\n\nlet canvas5 = document.createElement(\"canvas\");\ndocument.body.appendChild(canvas5);\nlet ctx5 = canvas5.getContext(\"2d\");\n\ncanvas5.width = 600;\ncanvas5.height = 200;\ncanvas5.style.border = \"1px solid black\";\n\nconst bg = new Image();\nbg.src = \"https://i.imgur.com/3e5pRfj.jpeg\";\n\nconst sprite = new Image();\nsprite.src = \"https://i.imgur.com/Qbl1bLZ.png\";\n\nlet bgX2 = 0;\nlet frame = 0;\n\nfunction animateScene() {\n    ctx5.clearRect(0, 0, canvas5.width, canvas5.height);\n\n    ctx5.drawImage(bg, bgX2, 0, canvas5.width, canvas5.height);\n    ctx5.drawImage(bg, bgX2 + canvas5.width, 0, canvas5.width, canvas5.height);\n\n    let spriteX = canvas5.width / 2 - 50;\n    let spriteY = canvas5.height / 2 - 50;\n\n    // TODO: add vertical floating effect using Math.sin() and frame\n    ctx5.drawImage(sprite, spriteX, spriteY, 100, 100);\n\n    bgX2 -= 2;\n    if (bgX2 <= -canvas5.width) {\n        bgX2 = 0;\n    }\n\n    frame++;\n    requestAnimationFrame(animateScene);\n}\nbg.onload = animateScene;\n",
      "text/plain": [
       "<IPython.core.display.Javascript object>"
      ]
     },
     "metadata": {},
     "output_type": "display_data"
    }
   ],
   "source": [
    "%%js\n",
    "\n",
    "// Activity 7 (Challenge): Floating Sprite!\n",
    "// Modify this so the sprite \"bobs\" up and down while the background moves.\n",
    "\n",
    "let canvas5 = document.createElement(\"canvas\");\n",
    "document.body.appendChild(canvas5);\n",
    "let ctx5 = canvas5.getContext(\"2d\");\n",
    "\n",
    "canvas5.width = 600;\n",
    "canvas5.height = 200;\n",
    "canvas5.style.border = \"1px solid black\";\n",
    "\n",
    "const bg = new Image();\n",
    "bg.src = \"https://i.imgur.com/3e5pRfj.jpeg\";\n",
    "\n",
    "const sprite = new Image();\n",
    "sprite.src = \"https://i.imgur.com/Qbl1bLZ.png\";\n",
    "\n",
    "let bgX2 = 0;\n",
    "let frame = 0;\n",
    "\n",
    "function animateScene() {\n",
    "    ctx5.clearRect(0, 0, canvas5.width, canvas5.height);\n",
    "\n",
    "    ctx5.drawImage(bg, bgX2, 0, canvas5.width, canvas5.height);\n",
    "    ctx5.drawImage(bg, bgX2 + canvas5.width, 0, canvas5.width, canvas5.height);\n",
    "\n",
    "    let spriteX = canvas5.width / 2 - 50;\n",
    "    let spriteY = canvas5.height / 2 - 50;\n",
    "\n",
    "    // TODO: add vertical floating effect using Math.sin() and frame\n",
    "    ctx5.drawImage(sprite, spriteX, spriteY, 100, 100);\n",
    "\n",
    "    bgX2 -= 2;\n",
    "    if (bgX2 <= -canvas5.width) {\n",
    "        bgX2 = 0;\n",
    "    }\n",
    "\n",
    "    frame++;\n",
    "    requestAnimationFrame(animateScene);\n",
    "}\n",
    "bg.onload = animateScene;\n"
   ]
  },
  {
   "cell_type": "markdown",
   "metadata": {},
   "source": [
    "## Extra Practice Questions\n",
    "\n",
    "1. Why does `requestAnimationFrame` work better than `setInterval` for animations?  \n",
    "2. What happens if you forget to call `ctx.clearRect()` inside an animation loop?  \n",
    "3. How would you modify the background speed so it moves faster?  \n",
    "4. (Challenge) Make the sprite move left and right with the arrow keys.  \n"
   ]
  },
  {
   "cell_type": "markdown",
   "metadata": {},
   "source": [
    "# Basic Instructions:\n",
    "\n",
    "1) Create a file called something like `background.md` just as long as it ends with `.md` (Strongly recommend placing it in a folder named hacks)\n",
    "\n",
    "2) \n"
   ]
  }
 ],
 "metadata": {
  "kernelspec": {
   "display_name": "venv",
   "language": "python",
   "name": "python3"
  },
  "language_info": {
   "codemirror_mode": {
    "name": "ipython",
    "version": 3
   },
   "file_extension": ".py",
   "mimetype": "text/x-python",
   "name": "python",
   "nbconvert_exporter": "python",
   "pygments_lexer": "ipython3",
   "version": "3.9.6"
  }
 },
 "nbformat": 4,
 "nbformat_minor": 2
}
