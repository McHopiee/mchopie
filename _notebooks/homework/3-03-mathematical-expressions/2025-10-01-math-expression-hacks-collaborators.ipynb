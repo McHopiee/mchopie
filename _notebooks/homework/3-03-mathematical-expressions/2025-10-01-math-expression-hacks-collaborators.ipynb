{
 "cells": [
  {
   "cell_type": "markdown",
   "id": "03b7e146",
   "metadata": {},
   "source": [
    "# 3.3 Hacks (Math Expressions using Pseudocode)"
   ]
  },
  {
   "cell_type": "markdown",
   "id": "19cdca56",
   "metadata": {},
   "source": [
    "# 💡 Hack 1: Identify Sequencing, Selection, and Iteration\n",
    "\n",
    "## Instructions\n",
    "Analyze the following algorithm. Identify **which steps demonstrate sequencing, selection, and iteration**.  \n",
    "\n",
    "- **Sequencing:** Steps that happen one after another in order.  \n",
    "- **Selection:** A decision is made that can lead to different outcomes.  \n",
    "- **Iteration:** A step or set of steps repeats based on a condition.  \n",
    "\n",
    "---\n",
    "\n",
    "### Algorithm\n",
    "1. Set item to the number to search for\n",
    "2. Get next number in the list\n",
    "3. If number = item, display “item found”\n",
    "4. If there are more numbers in the list, go back to Step 2\n",
    "5. Display “item not found”\n"
   ]
  },
  {
   "cell_type": "markdown",
   "id": "f0636d18",
   "metadata": {
    "vscode": {
     "languageId": "plaintext"
    }
   },
   "source": [
    "type your answers here: \n",
    "<br>\n",
    "\n",
    "**Sequencing:** \n",
    "Steps 1 → 2 → 3 → 4 → 5 happen in order, one after another.\n",
    "  \n",
    "**Selection:** \n",
    "Step 3: If number = item, display \"item found\"\n",
    "- This is a decision that changes what happens next.\n",
    "\n",
    "Step 4: If there are more numbers in the list, go back to Step 2\n",
    "- Another decision, determining whether to repeat or end. \n",
    "\n",
    "**Iteration:** \n",
    "Step 4: go back to Step 2\n",
    "- This creates a loop, meaning the algorithm keeps checking numbers until it either finds the item or runs out of numbers."
   ]
  },
  {
   "cell_type": "markdown",
   "id": "5b2f89d0",
   "metadata": {},
   "source": [
    "# 💡 Hack 2: Predict the Output\n",
    "\n",
    "## Instructions\n",
    "Analyze the following code segment. **Predict what is displayed** when it runs.  \n",
    "\n",
    "- Track how each variable changes after every line.  \n",
    "- Apply arithmetic operations carefully and in order.  \n",
    "- Remember that assignment updates the variable immediately.  \n",
    "\n",
    "---\n",
    "\n",
    "### Code Segment\n",
    "```pseudo\n",
    "- num1 ← 2\n",
    "- num2 ← 4\n",
    "- num3 ← 5\n",
    "- num1 ← num2 + num3\n",
    "- num3 ← num1 + 5\n",
    "- num2 ← (num1 + num3) / 5\n",
    "- DISPLAY(num1)\n",
    "- DISPLAY(num2)\n",
    "- DISPLAY(num3)"
   ]
  },
  {
   "cell_type": "markdown",
   "id": "e0ccebeb",
   "metadata": {
    "vscode": {
     "languageId": "plaintext"
    }
   },
   "source": [
    "### Step-by-step tracking\n",
    "num1 = 2\n",
    "num2 = 4\n",
    "num3 = 5\n",
    "### after num1 ← num2 + num3\n",
    "num1 = 9\n",
    "### after num3 ← num1 + 5\n",
    "num3 = 14\n",
    "### after num2 ← (num1 + num3)/5\n",
    "num2 = 4.6\n",
    "\n",
    "### Predicted Output\n",
    "DISPLAY(num1) → 9\n",
    "DISPLAY(num2) → 4.6\n",
    "DISPLAY(num3) → 14"
   ]
  },
  {
   "cell_type": "markdown",
   "id": "d402a50d",
   "metadata": {},
   "source": [
    "# 💡 Hack 3: Practice\n",
    "\n",
    "**Instructions:** Predict the value of `result` after executing the following code. Show your thought process and write your answer below. You can type and test this in [VS Code.dev](https://vscode.dev) if you want.  \n",
    "\n",
    "```pseudo\n",
    "num1 ← 40\n",
    "num2 ← num1 / 2\n",
    "num3 ← 5 * num2 + 3\n",
    "result ← num2 MOD 3 * num1 + 4 - num3 / 2\n",
    "DISPLAY(result)"
   ]
  },
  {
   "cell_type": "markdown",
   "id": "b77fd5ab",
   "metadata": {
    "vscode": {
     "languageId": "plaintext"
    }
   },
   "source": [
    "Write Your Answer Here\n",
    "result = 32.5"
   ]
  }
 ],
 "metadata": {
  "language_info": {
   "name": "python"
  }
 },
 "nbformat": 4,
 "nbformat_minor": 5
}
