{
 "cells": [
  {
   "cell_type": "code",
   "execution_count": null,
   "id": "6d62ad69",
   "metadata": {
    "vscode": {
     "languageId": "yaml"
    }
   },
   "outputs": [],
   "source": [
    "---\n",
    "layout: post\n",
    "title: Variables & Assignments\n",
    "description: This page will provide homework for the variables and assigmnets lesson.\n",
    "permalink: /python/variables/zombies/hw\n",
    "breadcrumb: True\n",
    "Author: Ethan Patel, Tanay Paranjpe, Neil Manjrekar\n",
    "categories: [Homework]\n",
    "---"
   ]
  },
  {
   "cell_type": "markdown",
   "id": "2b9da6aa",
   "metadata": {},
   "source": [
    "## Variables & Assignment Homework\n",
    "---\n",
    "Description:\n",
    "- In this homework hack, you will practice creating and using variables. You’ll define variables to store your name and age, reassign values, and answer interactive questions to test your understanding. This activity will help you master the basics of variables and how they work in programming."
   ]
  },
  {
   "cell_type": "markdown",
   "id": "352d458b",
   "metadata": {
    "vscode": {
     "languageId": "plaintext"
    }
   },
   "source": [
    "# 🏠 Variables Quest Homework\n",
    "\n",
    "**Objective:** Practice creating, manipulating, and combining strings in Python.\n",
    "\n",
    "---\n",
    "\n",
    "## Instructions\n",
    "\n",
    "Complete each challenge by **filling in the missing code**. Use the examples as a guide, but make sure to write your own values or logic.\n"
   ]
  },
  {
   "cell_type": "markdown",
   "id": "39715e07",
   "metadata": {
    "vscode": {
     "languageId": "raw"
    }
   },
   "source": [
    "## Challenge 1: Creating a Life Profile with Variables"
   ]
  },
  {
   "cell_type": "code",
   "execution_count": 6,
   "id": "35609373",
   "metadata": {},
   "outputs": [
    {
     "name": "stdout",
     "output_type": "stream",
     "text": [
      "Name: Hope\n",
      "Age: 16\n",
      "City: Los Angeles\n",
      "Favorite color: Purple\n",
      "Favorite food: Pizza\n",
      "Favorite movie: My Little Pony\n",
      "Favorite song: Taste\n",
      "Student? True\n",
      "Has pet? True\n",
      "Online? False\n",
      "Likes music? True\n"
     ]
    }
   ],
   "source": [
    "# Part 1\n",
    "## Personal info\n",
    "my_name = \"Hope\"           # Fill in your name\n",
    "my_age = 16            # Fill in your age\n",
    "my_city = \"San Diego\"           # Fill in the city where you live\n",
    "\n",
    "# Part 2\n",
    "## Preferences\n",
    "favorite_color = \"Purple\"    # Your favorite color\n",
    "favorite_food = \"Chicken\"     # Your favorite food\n",
    "favorite_movie = \"My Little Pony\"    # Your favorite movie\n",
    "favorite_song = \"Taste\"     # Your favorite song\n",
    "\n",
    "# Part 3\n",
    "# Reassign some variables\n",
    "favorite_food = \"Pizza\"\n",
    "my_city = \"Los Angeles\"\n",
    "has_pet = True\n",
    "is_online = False\n",
    "is_student = True\n",
    "likes_music = True\n",
    "\n",
    "# Part 5: Print Your Life Profile\n",
    "# Print all your variables so your “Life Profile” is displayed:\n",
    "\n",
    "print(\"Name:\", my_name)\n",
    "print(\"Age:\", my_age)\n",
    "print(\"City:\", my_city)\n",
    "print(\"Favorite color:\", favorite_color)\n",
    "print(\"Favorite food:\", favorite_food)\n",
    "print(\"Favorite movie:\", favorite_movie)\n",
    "print(\"Favorite song:\", favorite_song)\n",
    "print(\"Student?\", is_student)\n",
    "print(\"Has pet?\", has_pet)\n",
    "print(\"Online?\", is_online)\n",
    "print(\"Likes music?\", likes_music)\n"
   ]
  },
  {
   "cell_type": "markdown",
   "id": "748cd3e2",
   "metadata": {},
   "source": [
    "# Task 2 "
   ]
  },
  {
   "cell_type": "markdown",
   "id": "a775e8cf",
   "metadata": {
    "vscode": {
     "languageId": "html"
    }
   },
   "source": [
    "## Creative Challenge \n",
    "\n",
    "Your task: Create a “story” or “profile” using **ONLY variables and assignments**.  \n",
    "\n",
    "\n",
    "### Instructions:\n",
    "\n",
    "1. **Create at least 8 variables** to describe a character or yourself.  \n",
    "   Examples:  \n",
    "   `name`, `age`, `favorite_food`, `hobby`, `number_of_pets`, `mood`, `favorite_color`, `dream_job`\n",
    "\n",
    "2. **Assign initial values** to all variables.\n",
    "\n",
    "3. **Reassign at least 4 of the variables** to new values to simulate changes over time or “events” in the story.\n",
    "\n",
    "4. Use **print statements** to write a story or profile that is **at least 5 sentences long**.  \n",
    "   Each sentence should include at least one variable.  \n",
    "   Example:  \n",
    "   > \"Tanay ('age' 17) loves pizza and plays tennis ('hobby') every weekend. Today, Tanay is happy because he ate his ('favoirite_food').\"\n",
    "\n",
    "5. Optional: Add **extra variables** to make your story longer and more creative.  \n",
    "   You can also create “day 2”, “day 3”, etc., by reassigning variables and printing new sentences.\n",
    "\n",
    "### Goal:\n",
    "\n",
    "- Show creativity while practicing:  \n",
    "  - Variable creation  \n",
    "  - Variable reassignment  \n",
    "  - Using variables in print statements\n",
    "  - Experiment with assigment and reassigment to update variables \n"
   ]
  },
  {
   "cell_type": "code",
   "execution_count": 3,
   "id": "c48734de",
   "metadata": {},
   "outputs": [
    {
     "name": "stdout",
     "output_type": "stream",
     "text": [
      "Day 1\n",
      "Hope, age 16, loves eating chicken after spending some time listening to music.\n",
      "She currently has 1 pet and feels very tired\n",
      "Hope's favorite color is purple, and she wants to be a gamer.\n",
      "Day 2\n",
      "Hope's interests changed.\n",
      "Now she likes eating pasta after sleeping.\n",
      "She has another pet, so now she has 2!\n",
      "Hope feels bored.\n"
     ]
    }
   ],
   "source": [
    "print(\"Day 1\")\n",
    "\n",
    "name = \"Hope\"\n",
    "age = 16\n",
    "favorite_food = \"chicken\"\n",
    "hobby = \"listening to music\"\n",
    "number_of_pets = 1\n",
    "mood = \"tired\"\n",
    "favorite_color = \"purple\"\n",
    "dream_job = \"gamer\"\n",
    "\n",
    "print(f\"{name}, age {age}, loves eating {favorite_food} after spending some time {hobby}.\")\n",
    "print(f\"She currently has {number_of_pets} pet and feels very {mood}\")\n",
    "print(f\"{name}'s favorite color is {favorite_color}, and she wants to be a {dream_job}.\")\n",
    "\n",
    "favorite_food = \"pasta\"\n",
    "hobby = \"sleeping\"\n",
    "number_of_pets = 2\n",
    "mood = \"bored\"\n",
    "\n",
    "print(\"Day 2\")\n",
    "print(f\"{name}'s interests changed.\")\n",
    "print(f\"Now she likes eating {favorite_food} after {hobby}.\")\n",
    "print(f\"She has another pet, so now she has {number_of_pets}!\")\n",
    "print(f\"{name} feels {mood}.\")\n"
   ]
  },
  {
   "cell_type": "code",
   "execution_count": 1,
   "id": "80d50d67",
   "metadata": {},
   "outputs": [
    {
     "name": "stdout",
     "output_type": "stream",
     "text": [
      "You Win!\n"
     ]
    }
   ],
   "source": [
    "# # Finish the code \n",
    "# Define the win/lose messages first\n",
    "messageWin = \"You Win!\" # <-- Change this to \"You win!\"\n",
    "messageLose = \"You Lose!\" # <-- Change this to \"You lose!\"\n",
    "\n",
    "# Choose outcome\n",
    "winOrLose = \"win\"  # <-- Change this to either \"win\" or \"lose\"\n",
    "\n",
    "# Print result\n",
    "if winOrLose == \"win\":\n",
    "    print(messageWin)\n",
    "else:\n",
    "    print(messageLose)\n"
   ]
  },
  {
   "cell_type": "code",
   "execution_count": 2,
   "id": "d75a4417",
   "metadata": {},
   "outputs": [
    {
     "name": "stdout",
     "output_type": "stream",
     "text": [
      "The snake is 20 inches long and it's green.\n"
     ]
    }
   ],
   "source": [
    "# Finish the code \n",
    "# Example: snakeSize = 10\n",
    "snakeSize = 20   # <-- Add the size of the snake\n",
    "snakeColor = \"green\"   # <-- Add the color of the snake\n",
    "\n",
    "# Print greeting\n",
    "print(\"The snake is \" + str(snakeSize) + \" inches long and it's \" + snakeColor + \".\")\n"
   ]
  }
 ],
 "metadata": {
  "kernelspec": {
   "display_name": "venv",
   "language": "python",
   "name": "python3"
  },
  "language_info": {
   "codemirror_mode": {
    "name": "ipython",
    "version": 3
   },
   "file_extension": ".py",
   "mimetype": "text/x-python",
   "name": "python",
   "nbconvert_exporter": "python",
   "pygments_lexer": "ipython3",
   "version": "3.12.3"
  }
 },
 "nbformat": 4,
 "nbformat_minor": 5
}
