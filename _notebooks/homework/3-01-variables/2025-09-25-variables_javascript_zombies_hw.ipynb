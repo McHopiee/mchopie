{
 "cells": [
  {
   "cell_type": "code",
   "execution_count": null,
   "id": "5d9d659b",
   "metadata": {},
   "outputs": [],
   "source": [
    "---\n",
    "layout: post\n",
    "title: Variables & Assignments\n",
    "description: This page will provide homework for the variables and assigmnets lesson.\n",
    "permalink: /js/variables/zombies/hw\n",
    "breadcrumb: True\n",
    "Author: Ethan Patel, Tanay Paranjpe, Neil Manjrekar\n",
    "categories: [Homework]\n",
    "---"
   ]
  },
  {
   "cell_type": "markdown",
   "id": "4f2bb0f9",
   "metadata": {},
   "source": [
    "## Javascript Variables HW"
   ]
  },
  {
   "cell_type": "code",
   "execution_count": 2,
   "id": "a349231f",
   "metadata": {
    "vscode": {
     "languageId": "javascript"
    }
   },
   "outputs": [
    {
     "data": {
      "application/javascript": "// Part 1\n// Personal info\nlet myName = \"Hope\";       // Fill in your name\nlet myAge = 16;          // Fill in your age (number, no quotes)\nlet myCity = \"San Diego\";       // Fill in the city where you live\n\n// Part 2\n// Preferences\nlet favoriteColor = \"Purple\";      // Your favorite color\nlet favoriteFood = \"Chicken\";       // Your favorite food\nlet favoriteMovie = \"My Little Pony\";      // Your favorite movie\nlet favoriteSong = \"Taste\";       // Your favorite song\n\n// Part 3\n// Reassign some variables (you can change their values later)\nfavoriteFood = \"Pizza\";      // Change your favorite food\nmyCity = \"Los Angeles\";            // Change your city\nlet hasPet = true;          // true or false (Boolean)\n\n// Part 4\n// Add some more details\nlet isStudent = true;       // true or false\nlet isOnline = false;        // true or false\nlet likesMusic = true;      // true or false\n\n// Part 5: Print Your Life Profile\nconsole.log(\"Name:\", myName);\nconsole.log(\"Age:\", myAge);\nconsole.log(\"City:\", myCity);\nconsole.log(\"Favorite color:\", favoriteColor);\nconsole.log(\"Favorite food:\", favoriteFood);\nconsole.log(\"Favorite movie:\", favoriteMovie);\nconsole.log(\"Favorite song:\", favoriteSong);\nconsole.log(\"Student?\", isStudent);\nconsole.log(\"Has pet?\", hasPet);\nconsole.log(\"Online?\", isOnline);\nconsole.log(\"Likes music?\", likesMusic);\n",
      "text/plain": [
       "<IPython.core.display.Javascript object>"
      ]
     },
     "metadata": {},
     "output_type": "display_data"
    }
   ],
   "source": [
    "%%javascript\n",
    "// Part 1\n",
    "// Personal info\n",
    "let myName = \"Hope\";       // Fill in your name\n",
    "let myAge = 16;          // Fill in your age (number, no quotes)\n",
    "let myCity = \"San Diego\";       // Fill in the city where you live\n",
    "\n",
    "// Part 2\n",
    "// Preferences\n",
    "let favoriteColor = \"Purple\";      // Your favorite color\n",
    "let favoriteFood = \"Chicken\";       // Your favorite food\n",
    "let favoriteMovie = \"My Little Pony\";      // Your favorite movie\n",
    "let favoriteSong = \"Taste\";       // Your favorite song\n",
    "\n",
    "// Part 3\n",
    "// Reassign some variables (you can change their values later)\n",
    "favoriteFood = \"Pizza\";      // Change your favorite food\n",
    "myCity = \"Los Angeles\";            // Change your city\n",
    "let hasPet = true;          // true or false (Boolean)\n",
    "\n",
    "// Part 4\n",
    "// Add some more details\n",
    "let isStudent = true;       // true or false\n",
    "let isOnline = false;        // true or false\n",
    "let likesMusic = true;      // true or false\n",
    "\n",
    "// Part 5: Print Your Life Profile\n",
    "console.log(\"Name:\", myName);\n",
    "console.log(\"Age:\", myAge);\n",
    "console.log(\"City:\", myCity);\n",
    "console.log(\"Favorite color:\", favoriteColor);\n",
    "console.log(\"Favorite food:\", favoriteFood);\n",
    "console.log(\"Favorite movie:\", favoriteMovie);\n",
    "console.log(\"Favorite song:\", favoriteSong);\n",
    "console.log(\"Student?\", isStudent);\n",
    "console.log(\"Has pet?\", hasPet);\n",
    "console.log(\"Online?\", isOnline);\n",
    "console.log(\"Likes music?\", likesMusic);\n"
   ]
  }
 ],
 "metadata": {
  "kernelspec": {
   "display_name": "venv",
   "language": "python",
   "name": "python3"
  },
  "language_info": {
   "codemirror_mode": {
    "name": "ipython",
    "version": 3
   },
   "file_extension": ".py",
   "mimetype": "text/x-python",
   "name": "python",
   "nbconvert_exporter": "python",
   "pygments_lexer": "ipython3",
   "version": "3.12.3"
  }
 },
 "nbformat": 4,
 "nbformat_minor": 5
}
