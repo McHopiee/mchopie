{
 "cells": [
  {
   "cell_type": "markdown",
   "id": "9f76eaf9",
   "metadata": {
    "vscode": {
     "languageId": "raw"
    }
   },
   "source": [
    "---\n",
    "layout: opencs\n",
    "title: Boolean Logic in Programming Javascript Homework \n",
    "description: Boolean Hacks For Students To Try In Java\n",
    "comments: false\n",
    "permalink: /csp/big-idea-3/boolean/p4/javahacks\n",
    "comments: true\n",
    "categories: [Homework]\n",
    "---"
   ]
  },
  {
   "cell_type": "markdown",
   "id": "823548ae",
   "metadata": {},
   "source": [
    "# 🔑 Boolean Hacks in Java: Whack-A-Mole \n",
    "\n",
    "This notebook has short Boolean challenges. Edit the code where it says `TODO` to make it work."
   ]
  },
  {
   "cell_type": "markdown",
   "id": "edd847c1",
   "metadata": {},
   "source": [
    "## Challenge 1: Mole Hit\n",
    "Set hit to true if the player hits the mole. Print \"Hit!\" if hit is true, otherwise print \"Miss!\"."
   ]
  },
  {
   "cell_type": "code",
   "execution_count": 8,
   "id": "e6c87780",
   "metadata": {
    "vscode": {
     "languageId": "javascript"
    }
   },
   "outputs": [
    {
     "data": {
      "application/javascript": "\nlet hit = true; // Change to true if you hit the mole\nlet message = \"\";\n\n// Check if hit is true\nif (hit) {\n    message = \"Hit!\";\n} else {\n    message = \"Miss!\";\n}\n\nelement.text(message);\n",
      "text/plain": [
       "<IPython.core.display.Javascript object>"
      ]
     },
     "metadata": {},
     "output_type": "display_data"
    }
   ],
   "source": [
    "%%javascript\n",
    "\n",
    "let hit = true; // Change to true if you hit the mole\n",
    "let message = \"\";\n",
    "\n",
    "// Check if hit is true\n",
    "if (hit) {\n",
    "    message = \"Hit!\";\n",
    "} else {\n",
    "    message = \"Miss!\";\n",
    "}\n",
    "\n",
    "element.text(message);\n"
   ]
  },
  {
   "cell_type": "markdown",
   "id": "009c2e2d",
   "metadata": {},
   "source": [
    "## Challenge 2: Out of Lives\n",
    "Each time the player misses a mole, they lose a life. If lives reach 0, print \"Game Over!\"."
   ]
  },
  {
   "cell_type": "code",
   "execution_count": 10,
   "id": "2db682ee",
   "metadata": {
    "vscode": {
     "languageId": "javascript"
    }
   },
   "outputs": [
    {
     "data": {
      "application/javascript": "\nlet lives = 3; // Decrease when a mole is missed\nlet missed = true; // Change to true if player misses a mole\n\n// TODO: decrease lives when a mole is missed\nif (missed) {\n    lives -= 1;\n}\n\nif (lives === 0) {\n    console.log(\"Game Over!\");\n} else {\n    console.log(\"Keep playing! Lives left: \" + lives);\n}\n",
      "text/plain": [
       "<IPython.core.display.Javascript object>"
      ]
     },
     "metadata": {},
     "output_type": "display_data"
    }
   ],
   "source": [
    "%%javascript\n",
    "\n",
    "let lives = 3; // Decrease when a mole is missed\n",
    "let missed = true; // Change to true if player misses a mole\n",
    "\n",
    "// TODO: decrease lives when a mole is missed\n",
    "if (missed) {\n",
    "    lives -= 1;\n",
    "}\n",
    "\n",
    "if (lives === 0) {\n",
    "    console.log(\"Game Over!\");\n",
    "} else {\n",
    "    console.log(\"Keep playing! Lives left: \" + lives);\n",
    "}"
   ]
  },
  {
   "cell_type": "markdown",
   "id": "92c02232",
   "metadata": {},
   "source": [
    "## Challenge 3: High Score Boost\n",
    "If the player’s score reaches 10 or more, give them a bonus of +5 points."
   ]
  },
  {
   "cell_type": "code",
   "execution_count": 12,
   "id": "e11dd74a",
   "metadata": {
    "vscode": {
     "languageId": "javascript"
    }
   },
   "outputs": [
    {
     "data": {
      "application/javascript": "\nlet score = 10; // Increase when a mole is hit\n\n// TODO: add 5 bonus points when score is 10 or higher\nif (score >= 10) {\n    score += 5;\n    console.log(\"New High Score! Bonus awarded.\");\n} else {\n    console.log(\"Try again!\");\n}\n\nconsole.log(\"Final score: \" + score);\n",
      "text/plain": [
       "<IPython.core.display.Javascript object>"
      ]
     },
     "metadata": {},
     "output_type": "display_data"
    }
   ],
   "source": [
    "%%javascript\n",
    "\n",
    "let score = 10; // Increase when a mole is hit\n",
    "\n",
    "// TODO: add 5 bonus points when score is 10 or higher\n",
    "if (score >= 10) {\n",
    "    score += 5;\n",
    "    console.log(\"New High Score! Bonus awarded.\");\n",
    "} else {\n",
    "    console.log(\"Try again!\");\n",
    "}\n",
    "\n",
    "console.log(\"Final score: \" + score);"
   ]
  },
  {
   "cell_type": "markdown",
   "id": "67172ac0",
   "metadata": {},
   "source": [
    "## Challenge 4: Bonus Mole Condition\n",
    "A golden mole should only give a bonus if both goldenMole and hit are true. Fix the condition."
   ]
  },
  {
   "cell_type": "code",
   "execution_count": 14,
   "id": "a23b7e64",
   "metadata": {
    "vscode": {
     "languageId": "javascript"
    }
   },
   "outputs": [
    {
     "data": {
      "application/javascript": "\nlet goldenMole = true;   // Special mole appears\nlet hit = false;          // Change to true if the mole is hit\nlet message = \"\";\n\n// Correct condition: BOTH must be true\nif (goldenMole && hit) {\n    message = \"Bonus!\";\n} else {\n    message = \"No bonus.\";\n}\n\nelement.text(message);\n",
      "text/plain": [
       "<IPython.core.display.Javascript object>"
      ]
     },
     "metadata": {},
     "output_type": "display_data"
    }
   ],
   "source": [
    "%%javascript\n",
    "\n",
    "let goldenMole = true;   // Special mole appears\n",
    "let hit = false;          // Change to true if the mole is hit\n",
    "let message = \"\";\n",
    "\n",
    "// Correct condition: BOTH must be true\n",
    "if (goldenMole && hit) {\n",
    "    message = \"Bonus!\";\n",
    "} else {\n",
    "    message = \"No bonus.\";\n",
    "}\n",
    "\n",
    "element.text(message);"
   ]
  }
 ],
 "metadata": {
  "kernelspec": {
   "display_name": "venv",
   "language": "python",
   "name": "python3"
  },
  "language_info": {
   "codemirror_mode": {
    "name": "ipython",
    "version": 3
   },
   "file_extension": ".py",
   "mimetype": "text/x-python",
   "name": "python",
   "nbconvert_exporter": "python",
   "pygments_lexer": "ipython3",
   "version": "3.12.3"
  }
 },
 "nbformat": 4,
 "nbformat_minor": 5
}
